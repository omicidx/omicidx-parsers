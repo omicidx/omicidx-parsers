{
 "cells": [
  {
   "cell_type": "code",
   "execution_count": 2,
   "metadata": {},
   "outputs": [],
   "source": [
    "import pyspark\n",
    "sc = pyspark.SparkContext()"
   ]
  },
  {
   "cell_type": "code",
   "execution_count": 3,
   "metadata": {},
   "outputs": [],
   "source": [
    "sql = pyspark.sql.SQLContext(sc)"
   ]
  },
  {
   "cell_type": "code",
   "execution_count": 4,
   "metadata": {},
   "outputs": [],
   "source": [
    "rdd = sc.newAPIHadoopRDD(\"org.elasticsearch.hadoop.mr.EsInputFormat\",\n",
    "                         \"org.apache.hadoop.io.NullWritable\", \n",
    "                         \"org.elasticsearch.hadoop.mr.LinkedMapWritable\", \n",
    "                         conf={\"es.resource\":\"sra\",\n",
    "                               \"es.nodes.wan.only\": \"true\",\n",
    "                               \"es.net.http.auth.user\": \"omicidx\",\n",
    "                               \"es.net.http.auth.pass\": \"Asdf1234%\",\n",
    "                               \"es.net.ssl\" : \"true\",\n",
    "                               \"es.nodes\": \"c0b1083b4d78495d3b29a72d74fcea41.us-east-1.aws.found.io\",\n",
    "                               \"es.port\": \"9243\"\n",
    "                              })"
   ]
  },
  {
   "cell_type": "code",
   "execution_count": 3,
   "metadata": {},
   "outputs": [
    {
     "name": "stdout",
     "output_type": "stream",
     "text": [
      "experiment\n",
      "run\n",
      "sample\n",
      "study\n"
     ]
    }
   ],
   "source": [
    "entities = 'experiment run sample study'.split()\n",
    "sra = {}\n",
    "for entity in entities:\n",
    "    print(entity)\n",
    "    sra[entity] = sql.read.parquet('s3://omicidx.cancerdatasci.org/sra/NCBI_SRA_Mirroring_20180501_Full/parquet/{}_parquet/'.format(entity))\n",
    "    sra[entity].cache()"
   ]
  },
  {
   "cell_type": "code",
   "execution_count": 5,
   "metadata": {},
   "outputs": [],
   "source": [
    "def prefix_table_name(df, tbl_name):\n",
    "    if(tbl_name + '_accession' in df.columns):\n",
    "        df = df.drop(tbl_name + \"_accession\")\n",
    "    for c in df.columns:\n",
    "        if(c.endswith('accession')):\n",
    "            continue\n",
    "        df = df.withColumnRenamed(c, tbl_name + \"_\" + c)\n",
    "    df = df.withColumnRenamed('accession', tbl_name + \"_accession\")\n",
    "    return(df)"
   ]
  },
  {
   "cell_type": "code",
   "execution_count": 6,
   "metadata": {},
   "outputs": [],
   "source": [
    "sra2 = {}\n",
    "for entity in sra.keys():\n",
    "    sra2[entity] = prefix_table_name(sra[entity], entity)"
   ]
  },
  {
   "cell_type": "code",
   "execution_count": 8,
   "metadata": {},
   "outputs": [
    {
     "name": "stdout",
     "output_type": "stream",
     "text": [
      "root\n",
      " |-- experiment_accession: string (nullable = true)\n",
      " |-- experiment_alias: string (nullable = true)\n",
      " |-- experiment_attributes: array (nullable = true)\n",
      " |    |-- element: struct (containsNull = true)\n",
      " |    |    |-- tag: string (nullable = true)\n",
      " |    |    |-- value: string (nullable = true)\n",
      " |-- experiment_broker_name: string (nullable = true)\n",
      " |-- experiment_center_name: string (nullable = true)\n",
      " |-- experiment_description: string (nullable = true)\n",
      " |-- experiment_design: string (nullable = true)\n",
      " |-- experiment_identifiers: array (nullable = true)\n",
      " |    |-- element: struct (containsNull = true)\n",
      " |    |    |-- id: string (nullable = true)\n",
      " |    |    |-- namespace: string (nullable = true)\n",
      " |    |    |-- uuid: string (nullable = true)\n",
      " |-- experiment_instrument_model: string (nullable = true)\n",
      " |-- experiment_library_construction_protocol: string (nullable = true)\n",
      " |-- experiment_library_layout: string (nullable = true)\n",
      " |-- experiment_library_layout_length: float (nullable = true)\n",
      " |-- experiment_library_layout_orientation: string (nullable = true)\n",
      " |-- experiment_library_layout_sdev: string (nullable = true)\n",
      " |-- experiment_library_name: string (nullable = true)\n",
      " |-- experiment_library_selection: string (nullable = true)\n",
      " |-- experiment_library_source: string (nullable = true)\n",
      " |-- experiment_library_strategy: string (nullable = true)\n",
      " |-- experiment_platform: string (nullable = true)\n",
      " |-- sample_accession: string (nullable = true)\n",
      " |-- study_accession: string (nullable = true)\n",
      " |-- experiment_title: string (nullable = true)\n",
      " |-- experiment_xrefs: array (nullable = true)\n",
      " |    |-- element: struct (containsNull = true)\n",
      " |    |    |-- db: string (nullable = true)\n",
      " |    |    |-- id: string (nullable = true)\n",
      " |-- experiment_Status: string (nullable = true)\n",
      " |-- experiment_Received: timestamp (nullable = true)\n",
      " |-- experiment_Published: timestamp (nullable = true)\n",
      " |-- experiment_LastUpdate: timestamp (nullable = true)\n",
      " |-- experiment_LastMetaUpdate: timestamp (nullable = true)\n",
      " |-- experiment_ReplacedBy: string (nullable = true)\n",
      " |-- experiment_Insdc: boolean (nullable = true)\n",
      "\n"
     ]
    }
   ],
   "source": [
    "sra2['experiment'].printSchema()"
   ]
  },
  {
   "cell_type": "code",
   "execution_count": 7,
   "metadata": {},
   "outputs": [],
   "source": [
    "df = sra2['run'].join(sra2['experiment'], 'experiment_accession', 'left_outer')\\\n",
    "     .join(sra2['sample'], 'sample_accession', 'left_outer')\\\n",
    "     .join(sra2['study'], 'study_accession', 'left_outer')"
   ]
  },
  {
   "cell_type": "code",
   "execution_count": 21,
   "metadata": {},
   "outputs": [],
   "source": [
    "df = sql.read.parquet('s3://omicidx.cancerdatasci.org/sra/NCBI_SRA_Mirroring_20180401_Full/parquet/study_parquet/')"
   ]
  },
  {
   "cell_type": "code",
   "execution_count": 4,
   "metadata": {},
   "outputs": [],
   "source": [
    "conf={\"es.resource\":\"sra5\",\n",
    "                               \"es.nodes.wan.only\": \"true\",\n",
    "                               \"es.net.http.auth.user\": \"omicidx\",\n",
    "                               \"es.net.http.auth.pass\": \"Asdf1234%\",\n",
    "                               \"es.net.ssl\" : \"true\",\n",
    "                               \"es.nodes\": \"c0b1083b4d78495d3b29a72d74fcea41.us-east-1.aws.found.io\",\n",
    "                               \"es.port\": \"9243\"\n",
    "                              }\n"
   ]
  },
  {
   "cell_type": "code",
   "execution_count": 6,
   "metadata": {},
   "outputs": [],
   "source": [
    "df3 = sql.read.format(\"org.elasticsearch.spark.sql\")\\\n",
    "    .option(\"es.nodes.wan.only\",\"true\")\\\n",
    "    .option(\"es.net.http.auth.user\",\"omicidx\")\\\n",
    "    .option(\"es.net.http.auth.pass\",\"Asdf1234%\")\\\n",
    "    .option(\"es.net.ssl\",\"true\")\\\n",
    "    .option(\"es.nodes\",\"c0b1083b4d78495d3b29a72d74fcea41.us-east-1.aws.found.io\")\\\n",
    "    .option(\"es.read.field.as.array.include\",\"identifiers,attributes,xrefs\")\\\n",
    "    .option(\"es.mapping.date.rich\", \"true\")\\\n",
    "    .option(\"es.port\",\"9243\").load('sra_study/doc')"
   ]
  },
  {
   "cell_type": "code",
   "execution_count": 7,
   "metadata": {},
   "outputs": [
    {
     "name": "stdout",
     "output_type": "stream",
     "text": [
      "+-----------+--------+-----+-------------------+-------------------+-------------------+-------------------+------+--------------------+---------+--------------------+--------------------+-----------+-----------+--------------------+--------------------+---------------+--------------------+--------------------+--------------------+\n",
      "| BioProject|     GEO|Insdc|     LastMetaUpdate|         LastUpdate|          Published|           Received|Status|            abstract|accession|               alias|          attributes|broker_name|center_name|         description|         identifiers|study_accession|          study_type|               title|               xrefs|\n",
      "+-----------+--------+-----+-------------------+-------------------+-------------------+-------------------+------+--------------------+---------+--------------------+--------------------+-----------+-----------+--------------------+--------------------+---------------+--------------------+--------------------+--------------------+\n",
      "|PRJNA320709|    null| true|2017-07-18 20:56:40|2017-09-17 16:34:25|2017-05-05 04:01:26|2016-05-06 05:29:29|  live|This study invest...|SRP074444|         PRJNA320709|                null|       null| BioProject|                null|[[PRJNA320709, Bi...|      SRP074444|        Metagenomics|Effects of forage...|                null|\n",
      "|PRJNA320992|    null| true|2017-06-15 10:34:55|2017-11-21 12:10:47|2016-06-29 04:37:43|2016-05-09 12:05:15|  live|Oryzias melastigm...|SRP074531|         PRJNA320992|                null|       null| BioProject|                null|[[PRJNA320992, Bi...|      SRP074531|               Other|Oryzias melastigm...|                null|\n",
      "|PRJNA323523|    null| true|2017-06-15 10:36:46|2017-11-21 12:12:52|2016-06-02 23:47:18|2016-05-28 23:36:13|  live|Background: Sacch...|SRP075853|         PRJNA323523|                null|       null| BioProject|                null|[[PRJNA323523, Bi...|      SRP075853|               Other|Saccharomycopsis ...|                null|\n",
      "|PRJNA326346|    null| true|2016-06-22 11:37:22|2017-09-17 18:05:23|2016-06-22 15:31:14|2016-06-21 14:26:13|  live|lukSF-PV gene seq...|SRP076850|         PRJNA326346|                null|       null| BioProject|                null|[[PRJNA326346, Bi...|      SRP076850|Whole Genome Sequ...|Staphylococcus au...|                null|\n",
      "|PRJNA256853|    null| true|2016-07-01 10:28:13|2017-11-21 11:50:07|2016-07-01 10:51:16|2016-07-01 10:28:13|  live|Poplar resequenci...|SRP077709|         PRJNA256853|                null|       null| BioProject|                null|[[PRJNA256853, Bi...|      SRP077709|Whole Genome Sequ...|Populus trichocar...|                null|\n",
      "|PRJNA327389|    null| true|2017-06-15 10:38:32|2017-11-21 12:14:51|2016-08-01 04:01:32|2016-07-02 05:36:46|  live|Pooled sequences ...|SRP077752|         PRJNA327389|                null|       null| BioProject|                null|[[PRJNA327389, Bi...|      SRP077752|Whole Genome Sequ...|Erythranthe gutta...|                null|\n",
      "|PRJNA330634|GSE79989| true|2017-12-01 06:58:19|2017-12-06 22:58:13|2017-12-06 22:58:13|2016-07-20 15:04:58|  live|Genome-directed o...|SRP078984|            GSE79989|                null|       null|        GEO|                null|[[PRJNA330634, Bi...|      SRP078984|Transcriptome Ana...|Massively-paralle...|                null|\n",
      "|PRJNA163009|    null| true|2017-02-15 14:40:09|2017-11-21 11:51:21|2016-07-22 00:11:08|2016-07-22 00:07:19|  live|Genomic Encyclope...|SRP079260|         PRJNA163009|                null|       null| BioProject|                null|[[PRJNA163009, Bi...|      SRP079260|Whole Genome Sequ...|Bradyrhizobium ja...|                null|\n",
      "|PRJNA284858|    null| true|2017-06-15 10:39:56|2017-11-21 12:16:16|2016-08-07 04:00:46|2016-07-25 21:51:17|  live|Parochlus steinen...|SRP079706|         PRJNA284858|                null|       null| BioProject|                null|[[PRJNA284858, Bi...|      SRP079706|Whole Genome Sequ...|Parochlus steinen...|                null|\n",
      "|PRJNA335548|GSE84885| true|2016-12-19 06:19:30|2017-09-17 21:14:33|2016-12-19 20:33:01|2016-07-27 11:45:14|  live|Purpose: The goal...|SRP079956|            GSE84885|                null|       null|        GEO|                null|[[PRJNA335548, Bi...|      SRP079956|               Other|Small RNA and PAR...|[[pubmed, 27965387]]|\n",
      "|PRJNA330602|    null| true|2016-08-15 14:06:15|2017-09-17 17:37:01|2017-07-27 04:00:59|2016-07-29 15:57:19|  live|Initially, our is...|SRP080307|         PRJNA330602|                null|       null| BioProject|                null|[[PRJNA330602, Bi...|      SRP080307|               Other|Lactobacillus aci...|                null|\n",
      "|PRJNA330368|    null| true|2017-04-20 15:09:45|2017-09-17 17:51:43|2016-07-30 04:16:09|2016-07-30 04:04:13|  live|                null|SRP080400|         PRJNA330368|                null|       null| BioProject|                null|[[PRJNA330368, Bi...|      SRP080400|        Metagenomics|Marine microbial ...|                null|\n",
      "|PRJNA341914|    null| true|2017-06-15 10:52:52|2017-11-21 12:27:27|2016-09-11 11:36:08|2016-09-06 11:18:30|  live|Gut microbiota in...|SRP086571|         PRJNA341914|                null|       null| BioProject|                null|[[PRJNA341914, Bi...|      SRP086571|               Other|Polypedates megac...|                null|\n",
      "|PRJNA331415|    null| true|2016-09-11 11:31:21|2017-09-17 17:43:36|2016-09-11 11:39:11|2016-09-11 11:31:21|  live|Sequencing as par...|SRP089446|         PRJNA331415|                null|       null| BioProject|                null|[[PRJNA331415, Bi...|      SRP089446|Whole Genome Sequ...|Pseudovibrio deni...|                null|\n",
      "|PRJNA334490|    null| true|2017-04-20 15:23:58|2017-11-21 12:30:17|2016-09-11 18:50:08|2016-09-11 18:02:14|  live|Development of se...|SRP089626|         PRJNA334490|                null|       null| BioProject|                null|[[PRJNA334490, Bi...|      SRP089626|Whole Genome Sequ...|Setaria viridis s...|                null|\n",
      "|PRJNA343125|GSE86981| true|2017-05-09 05:47:46|2018-01-10 18:09:19|2017-05-03 20:26:14|2016-09-15 20:15:13|  live|In the developing...|SRP089967|            GSE86981|[[parent_bioproje...|       null|        GEO|                null|[[PRJNA343125, Bi...|      SRP089967|               Other|The Dynamic Epige...|[[pubmed, 28472656]]|\n",
      "| PRJDA34559|    null| true|2015-01-30 15:12:47|2017-09-17 09:57:24|2015-02-02 07:05:28|2010-02-08 07:56:30|  live|Comprehensive ide...|DRP000139|           DRP000139|                null|       null|     UT-MGS|Although recent s...|[[PRJDA34559, Bio...|      DRP000139|Transcriptome Ana...|Comprehensive ide...|                null|\n",
      "|  PRJDB4747|    null| true|2017-07-18 20:51:11|2017-09-17 17:49:11|2016-04-18 15:15:11|2016-04-18 15:12:32|  live|We attempted to a...|DRP003084|           DRP003084|                null|       null|    CHIBA_U|                null|[[PRJDB4747, BioP...|      DRP003084|               Other|Comparative trans...|                null|\n",
      "|  PRJDB5218|    null| true|2017-07-18 22:34:28|2017-09-17 18:18:43|2016-10-28 19:38:11|2016-10-27 17:30:18|  live|The metagenome da...|DRP003318|           DRP003318|                null|       null|      WIKIM|                null|[[PRJDB5218, BioP...|      DRP003318|               Other|Bacterial communi...|                null|\n",
      "|  PRJEB1405|    null| true|2013-07-20 00:42:33|2018-02-21 15:39:54|2013-10-18 05:08:55|2013-05-13 23:53:06|  live|Field isolates of...|ERP002207|Plasmodium_knowle...|                null|       null|         SC|Genome sequencing...|[[PRJEB1405, BioP...|      ERP002207|Whole Genome Sequ...|Plasmodium_knowle...|                null|\n",
      "+-----------+--------+-----+-------------------+-------------------+-------------------+-------------------+------+--------------------+---------+--------------------+--------------------+-----------+-----------+--------------------+--------------------+---------------+--------------------+--------------------+--------------------+\n",
      "only showing top 20 rows\n",
      "\n"
     ]
    }
   ],
   "source": [
    "df3.show()"
   ]
  },
  {
   "cell_type": "code",
   "execution_count": 9,
   "metadata": {},
   "outputs": [],
   "source": [
    "df3.write.format(\"org.elasticsearch.spark.sql\")\\\n",
    "    .option(\"es.nodes.wan.only\",\"true\")\\\n",
    "    .option(\"es.net.http.auth.user\",\"omicidx\")\\\n",
    "    .option(\"es.net.http.auth.pass\",\"Asdf1234%\")\\\n",
    "    .option(\"es.net.ssl\",\"true\")\\\n",
    "    .option(\"es.nodes\",\"c0b1083b4d78495d3b29a72d74fcea41.us-east-1.aws.found.io\")\\\n",
    "    .option(\"es.port\",\"9243\")\\\n",
    "    .option(\"es.mapping.id\", \"accession\")\\\n",
    "    .save('sra_study2/doc')"
   ]
  },
  {
   "cell_type": "code",
   "execution_count": null,
   "metadata": {},
   "outputs": [],
   "source": [
    "for i in sra.keys():\n",
    "    sra[i].write.format(\"org.elasticsearch.spark.sql\")\\\n",
    "    .option(\"es.nodes.wan.only\",\"true\")\\\n",
    "    .option(\"es.net.http.auth.user\",\"omicidx\")\\\n",
    "    .option(\"es.net.http.auth.pass\",\"Asdf1234%\")\\\n",
    "    .option(\"es.net.ssl\",\"true\")\\\n",
    "    .option(\"es.nodes\",\"c0b1083b4d78495d3b29a72d74fcea41.us-east-1.aws.found.io\")\\\n",
    "    .option(\"es.port\",\"9243\")\\\n",
    "    .option(\"es.mapping.id\", \"{}_accession\".format(i))\\\n",
    "    .save('sra_{}/doc'.format(i))"
   ]
  },
  {
   "cell_type": "code",
   "execution_count": 13,
   "metadata": {},
   "outputs": [],
   "source": [
    "from pyspark.sql.functions import col\n",
    "accession_info = sql.read.format('csv').options(header=True).options(delimiter=\"\\t\")\\\n",
    "    .load(\"s3://omicidx.cancerdatasci.org/sra/NCBI_SRA_Mirroring_20180501_Full/\" + \"SRA_Accessions.tab.bz2\")\\\n",
    "    .select(\"Accession\", \"Spots\", \"Bases\")\\\n",
    "    .filter(\"Accession like 'DRR%'\")"
   ]
  },
  {
   "cell_type": "code",
   "execution_count": 14,
   "metadata": {},
   "outputs": [
    {
     "name": "stdout",
     "output_type": "stream",
     "text": [
      "+---------+--------+----------+\n",
      "|Accession|   Spots|     Bases|\n",
      "+---------+--------+----------+\n",
      "|DRR000001|10148174| 730668528|\n",
      "|DRR000002| 8316737| 598805064|\n",
      "|DRR000003| 6459732| 232550352|\n",
      "|DRR000004| 6061180| 218202480|\n",
      "|DRR000005| 6040762| 217467432|\n",
      "|DRR000006| 5936619| 213718284|\n",
      "|DRR000007| 3503763| 126135468|\n",
      "|DRR000363|43900909|1580432724|\n",
      "|DRR000364|44984884|1619455824|\n",
      "|DRR000365|45416179|1634982444|\n",
      "|DRR000366|44948037|1618129332|\n",
      "|DRR000008|19153889| 689540004|\n",
      "|DRR000009|17668118| 636052248|\n",
      "|DRR000010|18079621| 650866356|\n",
      "|DRR000011|15788579| 568388844|\n",
      "|DRR000012|15075547| 542719692|\n",
      "|DRR000013|15490013| 557640468|\n",
      "|DRR000014|16388392| 589982112|\n",
      "|DRR000015|15287389| 550346004|\n",
      "|DRR000016|15445050| 556021800|\n",
      "+---------+--------+----------+\n",
      "only showing top 20 rows\n",
      "\n"
     ]
    }
   ],
   "source": [
    "accession_info.show()"
   ]
  },
  {
   "cell_type": "code",
   "execution_count": 4,
   "metadata": {},
   "outputs": [
    {
     "name": "stdout",
     "output_type": "stream",
     "text": [
      "+---------+--------------------+-----------+-----------+--------------------+--------------------+------+--------------------+---------+--------------------+--------+-----------+---------+-----------+------+-------------------+-------------------+-------------------+-------------------+----------+-----+-----------+----------+--------------------+-------------------+\n",
      "|    alias|          attributes|broker_name|center_name|experiment_accession|         identifiers|nreads|               reads|accession|          run_center|run_date|spot_length|    spots|      bases|Status|           Received|          Published|         LastUpdate|     LastMetaUpdate|ReplacedBy|Insdc|file_addons|  FileSize|             FileMd5|           FileDate|\n",
      "+---------+--------------------+-----------+-----------+--------------------+--------------------+------+--------------------+---------+--------------------+--------+-----------+---------+-----------+------+-------------------+-------------------+-------------------+-------------------+----------+-----+-----------+----------+--------------------+-------------------+\n",
      "|DRR000062|[[notes, repackag...|       null|     UT-MGS|           DRX000023|[[DRR000062, UT-M...|  null|                  []|DRR000062|              UT-MGS|    null|          0|  6095377|  219433572|  live|2009-09-08 05:01:10|2015-02-06 06:46:37|2015-02-06 06:46:37|2014-07-31 17:39:14|      null| true|       null| 686198071|40ddc3b7061ac3c41...|2014-05-26 12:27:33|\n",
      "|DRR000097|          [[notes,]]|       null|     KUGSPS|           DRX000034|[[DRR000097, KUGS...|  null|                  []|DRR000097|              KUGSPS|    null|          0|  2796279|  100666044|  live|2009-10-26 01:47:11|2010-03-01 05:00:00|2017-08-10 11:22:20|2017-08-10 11:19:41|      null| true|       null|  67845712|c6c7ee322df73f538...|2014-05-26 13:27:26|\n",
      "|DRR000149|                null|       null|        WMC|           DRX000063| [[DRR000149, WMC,]]|  null|                  []|DRR000149|                 WMC|    null|          0| 17003885|  595135975|  live|2009-12-11 01:09:08|2009-12-11 08:21:36|2017-08-10 11:22:21|2017-08-10 11:19:43|      null| true|       null| 245380237|1d52324c48a3f9d54...|2014-05-26 15:08:02|\n",
      "|DRR000252|[[notes, repackag...|       null|     UT-MGS|           DRX000118|[[DRR000252, UT-M...|  null|                  []|DRR000252|              UT-MGS|    null|          0|  8503421|  306123156|  live|2010-02-05 05:44:21|2015-02-02 06:23:03|2015-02-02 06:23:03|2014-12-09 19:48:00|      null| true|       null| 221950421|31b8cd92eefdb95b0...|2014-05-26 17:20:34|\n",
      "|DRR000299|[[notes, repackag...|       null|     UT-MGS|           DRX000165|[[DRR000299, UT-M...|  null|                  []|DRR000299|              UT-MGS|    null|          0| 20332149|  731957364|  live|2010-02-08 07:56:28|2015-02-02 07:05:22|2015-02-02 07:05:22|2014-12-09 19:52:26|      null| true|       null| 503350445|39b008757ebcaf40d...|2014-05-26 17:23:44|\n",
      "|DRR000351|     [[notes, qseq]]|       null|       NIAS|           DRX000194|[[DRR000351, NIAS,]]|  null|                  []|DRR000351|                NIAS|    null|          0| 29908148| 1076693328|  live|2010-03-15 02:40:13|2010-12-02 02:22:01|2017-08-10 11:22:22|2017-08-10 11:19:55|      null| true|       null| 784203564|38379d2380e3012aa...|2014-05-27 01:57:22|\n",
      "|DRR000424|                null|        DRA|      KUFMS|           DRX000226|[[DRR000424, KUFM...|  null|                  []|DRR000424|Life Technologies...|    null|          0| 33010099| 1650504950|  live|2010-04-27 08:50:12|2011-04-22 04:00:00|2017-08-10 11:22:23|2017-08-10 11:20:02|      null| true|       null|1476166597|ef9caffd470f0444a...|2014-05-27 04:10:26|\n",
      "|DRR000690|                null|        DRA|     UT-MGS|           DRX000421|[[DRR000690, UT-M...|  null|                  []|DRR000690|              UT-MGS|    null|          0| 42979661| 1547267796|  live|2014-03-26 04:57:26|2014-05-14 18:11:58|2015-04-10 11:27:05|2014-07-31 17:57:17|      null| true|       null| 842607432|7731c6420edcfb4dd...|2015-04-10 11:25:22|\n",
      "|DRR000786|                null|       null|     KAZUSA|           DRX000482|[[DRR000786, KAZU...|  null|                  []|DRR000786|              KAZUSA|    null|          0|  1018178|  486066860|  live|2012-04-05 06:36:17|2012-04-06 01:55:13|2016-03-10 19:11:13|2016-03-10 19:10:43|      null| true|       null|1214048416|9b8a92c22de814a75...|2014-05-31 17:52:59|\n",
      "|DRR000925|                null|       null|   KYOTO_GM|           DRX000575|[[DRR000925, KYOT...|  null|                  []|DRR000925|            KYOTO_GM|    null|          0|   877365|  114057450|  live|2011-09-12 01:23:16|2011-09-12 01:46:23|2014-07-31 18:11:09|2014-07-31 18:10:11|      null| true|       null|  62887270|c9f4fbb3db7e22bf5...|2014-05-31 08:33:17|\n",
      "|DRR001017|                null|       null|   AAFC_CAN|           DRX000657|[[DRR001017, AAFC...|  null|                  []|DRR001017|            AAFC_CAN|    null|          0|  1352441|  672926703|  live|2011-12-09 05:00:18|2011-12-19 22:47:25|2014-07-31 18:13:10|2014-07-31 18:12:40|      null| true|       null|1570929320|e94a6dba7bc24f5e7...|2014-05-31 13:57:54|\n",
      "|DRR001077|                null|       null|       CCGB|           DRX000689|[[DRR001077, CCGB,]]|  null|                  []|DRR001077|           Sequensys|    null|          0|   691825|   52578700|  live|2011-05-30 05:54:26|2011-05-30 06:17:04|2014-07-31 18:14:08|2014-07-31 18:13:37|      null| true|       null|  37198800|eeb9698e1e26d2c04...|2014-05-30 21:07:03|\n",
      "|DRR001160|                null|       null|   KYOTO_IT|           DRX000757|[[DRR001160, KYOT...|     2|[[1, Technical Re...|DRR001160|            KYOTO_IT|    null|          0|    20037|   10643215|  live|2011-10-25 03:06:17|2011-10-25 03:13:24|2017-08-10 11:22:27|2017-08-10 11:20:43|      null| true|       null|  24518160|333d59299324fab43...|2014-05-31 09:51:48|\n",
      "|DRR001452|                null|       null|    OCHA_AP|           DRX001006|[[DRR001452, OCHA...|  null|                  []|DRR001452|             OCHA_AP|    null|          0|   110027|   41981141|  live|2014-03-26 05:03:20|2014-05-14 16:40:27|2014-07-31 18:22:08|2014-07-31 18:21:34|      null| true|       null| 113794471|3b6a777280be46a7c...|2014-06-01 05:31:22|\n",
      "|DRR001658|                null|       null|     TUAGRI|           DRX001140|[[DRR001658, TUAG...|  null|                  []|DRR001658|              TUAGRI|    null|          0|230359070|35014578640|  live|2011-12-12 01:52:17|2012-01-17 01:58:30|2014-07-31 18:25:12|2014-07-31 18:24:38|      null| true|       null|      null|67c8739f09e0d9013...|2014-05-31 15:34:09|\n",
      "|DRR001784|                null|       null|      KIRIN|           DRX001251|[[DRR001784, KIRI...|  null|                  []|DRR001784|               KIRIN|    null|          0|132751794| 6637589700|  live|2012-05-22 05:33:16|2012-05-22 06:01:12|2014-07-31 18:27:09|2014-07-31 18:26:22|      null| true|       null|      null|3b6fb9f6e76c6b718...|2012-05-22 05:59:30|\n",
      "|DRR001829|                null|       null|      FFPRI|           DRX001292|[[DRR001829, FFPR...|  null|                  []|DRR001829|Hokkaido System S...|    null|          0|  9016132| 1370452064|  live|2016-02-01 13:41:53|2016-02-01 13:42:10|2017-08-10 11:22:34|2017-08-10 11:21:34|      null| true|       null| 783997847|3a571cc97a7ec3deb...|2016-02-01 13:44:11|\n",
      "|DRR002170|                null|       null|        NIG|           DRX001603| [[DRR002170, NIG,]]|  null|                  []|DRR002170|                 NIG|    null|          0| 94584908|19106151416|  live|2012-07-10 04:55:21|2012-07-23 05:18:16|2017-08-10 11:22:37|2017-08-10 11:21:44|      null| true|       null|      null|c888554bc627ddf8a...|2012-07-23 05:17:44|\n",
      "|DRR002507|                null|       null|        NIG|           DRX001880| [[DRR002507, NIG,]]|  null|                  []|DRR002507|                 NIG|    null|          0|177230784|35800618368|  live|2012-09-12 00:23:18|2012-09-12 02:13:12|2017-08-10 11:24:20|2017-08-10 11:22:11|      null| true|       null|      null|254a607d5529e0e8a...|2012-09-12 02:12:24|\n",
      "|DRR002585|                null|       null|      ERATO|           DRX001940|[[DRR002585, ERAT...|  null|                  []|DRR002585|               ERATO|    null|          0| 14782354|  369558850|  live|2014-03-26 05:09:48|2014-05-14 16:40:27|2014-07-31 18:45:11|2014-07-31 18:44:15|      null| true|       null| 308678334|0234adcf9825da940...|2014-04-10 17:21:55|\n",
      "+---------+--------------------+-----------+-----------+--------------------+--------------------+------+--------------------+---------+--------------------+--------+-----------+---------+-----------+------+-------------------+-------------------+-------------------+-------------------+----------+-----+-----------+----------+--------------------+-------------------+\n",
      "only showing top 20 rows\n",
      "\n"
     ]
    }
   ],
   "source": [
    "sra['run'].show()"
   ]
  },
  {
   "cell_type": "code",
   "execution_count": 5,
   "metadata": {},
   "outputs": [
    {
     "name": "stdout",
     "output_type": "stream",
     "text": [
      "+---------+---------+----------+-----------+-----------+-----------+--------------------+--------------------+--------------------+--------------------+-----------------------------+--------------+---------------------+--------------------------+-------------------+--------------------+-----------------+--------------+----------------+-----------+----------------+---------------+--------------------+-----+------+-------------------+-------------------+-------------------+-------------------+----------+-----+\n",
      "|accession|    alias|attributes|broker_name|center_name|description|              design|experiment_accession|         identifiers|    instrument_model|library_construction_protocol|library_layout|library_layout_length|library_layout_orientation|library_layout_sdev|        library_name|library_selection|library_source|library_strategy|   platform|sample_accession|study_accession|               title|xrefs|Status|           Received|          Published|         LastUpdate|     LastMetaUpdate|ReplacedBy|Insdc|\n",
      "+---------+---------+----------+-----------+-----------+-----------+--------------------+--------------------+--------------------+--------------------+-----------------------------+--------------+---------------------+--------------------------+-------------------+--------------------+-----------------+--------------+----------------+-----------+----------------+---------------+--------------------+-----+------+-------------------+-------------------+-------------------+-------------------+----------+-----+\n",
      "|DRX000063|DRX000063|      null|       null|        WMC|       null|       none provided|           DRX000063| [[DRX000063, WMC,]]|Illumina Genome A...|                none provided|        SINGLE|                 null|                      null|               null|              ytuyti|           RANDOM|       GENOMIC|       POOLCLONE|   ILLUMINA|       DRS000062|      DRP000039|genetic variation...| null|  live|2009-12-11 01:09:07|2009-12-11 01:09:08|2014-07-31 17:41:11|2014-07-31 17:40:43|      null| true|\n",
      "|DRX000235|DRX000235|      null|        DRA|    UT-GALS|       null|       none provided|           DRX000235|[[DRX000235, UT-G...|Illumina Genome A...|         Total RNAs were p...|        SINGLE|                 null|                      null|               null|WF testis-derived...|           RT-PCR|       GENOMIC|           OTHER|   ILLUMINA|       DRS000235|      DRP000173|WF testis-derived...| null|  live|2010-06-01 06:19:10|2011-11-16 01:40:13|2014-07-31 17:51:17|2014-07-31 17:50:52|      null| true|\n",
      "|DRX000330|DRX000330|      null|        DRA|        NIG|       null|       none provided|           DRX000330| [[DRX000330, NIG,]]|Illumina Genome A...|                none provided|        PAIRED|                  0.0|                      null|              0.0E0|      Multiplex-1_CC|              PCR|       GENOMIC|        AMPLICON|   ILLUMINA|       DRS000293|      DRP000210|Rice Transcriptom...| null|  live|2010-08-04 08:14:05|2016-03-28 18:25:14|2016-03-28 18:25:14|2016-03-28 18:24:31|      null| true|\n",
      "|DRX000542|DRX000542|      null|       null|     UT-MGS|       null|       none provided|           DRX000542|[[DRX000542, UT-M...|Illumina Genome A...|                none provided|        SINGLE|                 null|                      null|               null|           IP A- 12h|             cDNA|TRANSCRIPTOMIC|           OTHER|   ILLUMINA|       DRS000572|      DRP000362|           IP A- 12h| null|  live|2012-02-21 02:52:39|2012-02-21 03:27:19|2014-07-31 18:10:07|2014-07-31 18:09:13|      null| true|\n",
      "|DRX000629|DRX000629|      null|       null|       GIMB|       null|       none provided|           DRX000629|[[DRX000629, GIMB,]]| 454 GS FLX Titanium|                none provided|        SINGLE|                 null|                      null|               null|       Jong-Shik Kim|              PCR|   METAGENOMIC|        AMPLICON|      LS454|       DRS000637|      DRP000379|Exploring bacteri...| null|  live|2014-03-26 05:06:06|2014-05-14 16:40:27|2014-07-31 18:12:07|2014-07-31 18:11:20|      null| true|\n",
      "|DRX000684|DRX000684|      null|       null|       CCGB|       null|       none provided|           DRX000684|[[DRX000684, CCGB,]]|Illumina Genome A...|                none provided|        SINGLE|                 null|                      null|               null|               cM5C3|           RANDOM|         OTHER|             WGS|   ILLUMINA|       DRS000675|      DRP000396|          M4C3 cheek| null|  live|2011-05-30 05:54:24|2011-05-30 06:19:03|2014-07-31 18:14:07|2014-07-31 18:13:35|      null| true|\n",
      "|DRX000931|DRX000931|      null|       null|   KYOTO_GM|       null|       none provided|           DRX000931|[[DRX000931, KYOT...|Illumina Genome A...|                none provided|        SINGLE|                 null|                      null|               null|Hepatitis B virus...|              PCR|       GENOMIC|        AMPLICON|   ILLUMINA|       DRS000829|      DRP000444|Ultra-deep sequen...| null|  live|2012-09-06 07:38:24|2012-09-06 07:48:12|2014-07-31 18:20:07|2014-07-31 18:19:22|      null| true|\n",
      "|DRX001117|DRX001117|      null|       null|  HYDRO_CAS|       null|GS-FLX pyrosequen...|           DRX001117|[[DRX001117, HYDR...| 454 GS FLX Titanium|                none provided|        SINGLE|                 null|                      null|               null|       Fish diseases|              PCR|   METAGENOMIC|           OTHER|      LS454|       DRS001135|      DRP000498|fish_related envi...| null|  live|2011-12-14 05:38:16|2011-12-19 18:45:47|2014-07-31 18:24:09|2014-07-31 18:23:30|      null| true|\n",
      "|DRX001235|DRX001235|      null|       null|     TUAGRI|       null|       none provided|           DRX001235|[[DRX001235, TUAG...| Illumina HiSeq 2000|                         null|        PAIRED|                 null|                      null|               null|Mishima-#12324-34...|           RANDOM|       GENOMIC|             WGS|   ILLUMINA|       DRS001216|      DRP000521|Whole-genome sequ...| null|  live|2014-03-26 05:05:20|2014-05-14 16:40:27|2014-07-31 18:27:08|2014-07-31 18:26:13|      null| true|\n",
      "|DRX001423|DRX001423|      null|       null|   KYOTO_AG|       null|                null|           DRX001423|[[DRX001423, KYOT...|Illumina Genome A...|                         null|        SINGLE|                 null|                      null|               null| Soil metagenome: LR|           RANDOM|   METAGENOMIC|             WGS|   ILLUMINA|       DRS001352|      DRP000569|Soil microbial me...| null|  live|2014-03-26 05:07:17|2014-05-14 16:40:27|2014-07-31 18:32:10|2014-07-31 18:32:02|      null| true|\n",
      "|DRX001447|DRX001447|      null|       null|  KYOTO_CER|       null|                null|           DRX001447|[[DRX001447, KYOT...| 454 GS FLX Titanium|                         null|        SINGLE|                 null|                      null|               null|Library-3: mRNA a...|             cDNA|TRANSCRIPTOMIC|         RNA-Seq|      LS454|       DRS001374|      DRP000577|mRNA and non-ampl...| null|  live|2012-12-27 03:03:20|2012-12-27 03:08:08|2014-07-31 18:34:10|2014-07-31 18:33:06|      null| true|\n",
      "|DRX002210|DRX002210|      null|       null|   KYOTO-GE|       null|Each root tip was...|           DRX002210|[[DRX002210, KYOT...|       454 GS Junior|                         null|        SINGLE|                 null|                      null|               null|G8VDHLE01__ACCTAC...|              PCR|   METAGENOMIC|        AMPLICON|      LS454|       DRS002300|      DRP000759|G8VDHLE01__ACCTAC...| null|  live|2014-03-26 05:51:02|2014-04-12 06:08:05|2014-07-31 18:51:12|2014-07-31 18:50:10|      null| true|\n",
      "|DRX002529|DRX002529|      null|       null|     UT_COB|       null|                null|           DRX002529|[[DRX002529, UT_C...|     Ion Torrent PGM|                         null|        SINGLE|                 null|                      null|               null|                null|           RANDOM|       GENOMIC|             WGS|ION_TORRENT|       DRS002617|      DRP000801|Whole genome anal...| null|  live|2014-04-10 16:47:56|2014-05-14 16:40:27|2014-07-31 18:56:08|2014-07-31 18:55:34|      null| true|\n",
      "|DRX002957|DRX002957|      null|       null|        NIG|       null|                null|           DRX002957| [[DRX002957, NIG,]]| Illumina HiSeq 2000|                         null|        PAIRED|                 null|                      null|               null|                null|           RANDOM|       GENOMIC|           OTHER|   ILLUMINA|       DRS003089|      DRP000931|Genome sequencing...| null|  live|2016-03-28 18:25:08|2016-03-28 18:25:14|2016-03-28 20:15:07|2016-03-28 18:25:08|      null| true|\n",
      "|DRX003173|DRX003173|      null|       null|TOKYO_MEDEN|       null|                null|           DRX003173|[[DRX003173, TOKY...|       454 GS Junior|         For DNA extractio...|        SINGLE|                 null|                      null|               null|                null|              PCR|       GENOMIC|        AMPLICON|      LS454|       DRS003339|      DRP000951|O2:16S rRNA pyros...| null|  live|2014-03-26 05:31:57|2014-05-14 16:40:27|2014-07-31 19:17:09|2014-07-31 19:16:20|      null| true|\n",
      "|DRX003469|DRX003469|      null|       null|   KYOTO-GE|       null|Each root sample ...|           DRX003469|[[DRX003469, KYOT...|       454 GS Junior|                         null|        SINGLE|                 null|                      null|               null|YamamotoYoshidaya...|              PCR|   METAGENOMIC|        AMPLICON|      LS454|       DRS003629|      DRP000963|YamamotoYoshidaya...| null|  live|2014-06-27 18:01:46|2014-06-27 18:01:46|2014-07-31 19:20:08|2014-07-31 19:18:03|      null| true|\n",
      "|DRX003589|DRX003589|      null|       null|   KYOTO-GE|       null|Each root sample ...|           DRX003589|[[DRX003589, KYOT...|       454 GS Junior|                         null|        SINGLE|                 null|                      null|               null|YamamotoYoshidaya...|              PCR|   METAGENOMIC|        AMPLICON|      LS454|       DRS003749|      DRP000963|YamamotoYoshidaya...| null|  live|2014-06-27 18:01:37|2014-06-27 18:01:37|2014-07-31 19:20:15|2014-07-31 19:18:22|      null| true|\n",
      "|DRX003730|DRX003730|      null|       null|   KYOTO-GE|       null|All soil was care...|           DRX003730|[[DRX003730, KYOT...|       454 GS Junior|         We sequenced fung...|        SINGLE|                 null|                      null|               null|G63WAOO01__AAGGAT...|              PCR|   METAGENOMIC|        AMPLICON|      LS454|       DRS003881|      DRP000972|G63WAOO01__AAGGAT...| null|  live|2014-03-26 05:37:40|2014-04-04 04:18:18|2014-07-31 19:25:26|2014-07-31 19:21:06|      null| true|\n",
      "|DRX004153|DRX004153|      null|       null|   KYOTO-GE|       null|All soil was care...|           DRX004153|[[DRX004153, KYOT...|       454 GS Junior|         We sequenced fung...|        SINGLE|                 null|                      null|               null|G6YD1NQ01__AAGGAA...|              PCR|   METAGENOMIC|        AMPLICON|      LS454|       DRS004304|      DRP000972|G6YD1NQ01__AAGGAA...| null|  live|2014-03-26 05:36:36|2014-04-05 06:57:51|2014-07-31 19:26:19|2014-07-31 19:21:59|      null| true|\n",
      "|DRX004447|DRX004447|      null|       null|   KYOTO-GE|       null|All soil was care...|           DRX004447|[[DRX004447, KYOT...|       454 GS Junior|         We sequenced fung...|        SINGLE|                 null|                      null|               null|G6YD1NQ01__ATGGTT...|              PCR|   METAGENOMIC|        AMPLICON|      LS454|       DRS004598|      DRP000972|G6YD1NQ01__ATGGTT...| null|  live|2014-03-26 05:37:54|2014-04-04 04:18:18|2014-07-31 19:27:09|2014-07-31 19:22:33|      null| true|\n",
      "+---------+---------+----------+-----------+-----------+-----------+--------------------+--------------------+--------------------+--------------------+-----------------------------+--------------+---------------------+--------------------------+-------------------+--------------------+-----------------+--------------+----------------+-----------+----------------+---------------+--------------------+-----+------+-------------------+-------------------+-------------------+-------------------+----------+-----+\n",
      "only showing top 20 rows\n",
      "\n"
     ]
    }
   ],
   "source": [
    "sra['experiment'].show()"
   ]
  },
  {
   "cell_type": "code",
   "execution_count": 8,
   "metadata": {},
   "outputs": [
    {
     "data": {
      "text/plain": [
       "['study_accession',\n",
       " 'sample_accession',\n",
       " 'experiment_accession',\n",
       " 'run_alias',\n",
       " 'run_attributes',\n",
       " 'run_broker_name',\n",
       " 'run_center_name',\n",
       " 'run_identifiers',\n",
       " 'run_nreads',\n",
       " 'run_reads',\n",
       " 'run_accession',\n",
       " 'run_run_center',\n",
       " 'run_run_date',\n",
       " 'run_spot_length',\n",
       " 'run_spots',\n",
       " 'run_bases',\n",
       " 'run_Status',\n",
       " 'run_Received',\n",
       " 'run_Published',\n",
       " 'run_LastUpdate',\n",
       " 'run_LastMetaUpdate',\n",
       " 'run_ReplacedBy',\n",
       " 'run_Insdc',\n",
       " 'run_file_addons',\n",
       " 'run_FileSize',\n",
       " 'run_FileMd5',\n",
       " 'run_FileDate',\n",
       " 'experiment_alias',\n",
       " 'experiment_attributes',\n",
       " 'experiment_broker_name',\n",
       " 'experiment_center_name',\n",
       " 'experiment_description',\n",
       " 'experiment_design',\n",
       " 'experiment_identifiers',\n",
       " 'experiment_instrument_model',\n",
       " 'experiment_library_construction_protocol',\n",
       " 'experiment_library_layout',\n",
       " 'experiment_library_layout_length',\n",
       " 'experiment_library_layout_orientation',\n",
       " 'experiment_library_layout_sdev',\n",
       " 'experiment_library_name',\n",
       " 'experiment_library_selection',\n",
       " 'experiment_library_source',\n",
       " 'experiment_library_strategy',\n",
       " 'experiment_platform',\n",
       " 'experiment_title',\n",
       " 'experiment_xrefs',\n",
       " 'experiment_Status',\n",
       " 'experiment_Received',\n",
       " 'experiment_Published',\n",
       " 'experiment_LastUpdate',\n",
       " 'experiment_LastMetaUpdate',\n",
       " 'experiment_ReplacedBy',\n",
       " 'experiment_Insdc',\n",
       " 'sample_BioSample',\n",
       " 'sample_GEO',\n",
       " 'sample_alias',\n",
       " 'sample_attributes',\n",
       " 'sample_broker_name',\n",
       " 'sample_center_name',\n",
       " 'sample_description',\n",
       " 'sample_identifiers',\n",
       " 'sample_organism',\n",
       " 'sample_taxon_id',\n",
       " 'sample_title',\n",
       " 'sample_xrefs',\n",
       " 'sample_sample_type',\n",
       " 'sample_ontology_terms',\n",
       " 'sample_numeric_properties',\n",
       " 'sample_Status',\n",
       " 'sample_Received',\n",
       " 'sample_Published',\n",
       " 'sample_LastUpdate',\n",
       " 'sample_LastMetaUpdate',\n",
       " 'sample_ReplacedBy',\n",
       " 'sample_Insdc',\n",
       " 'study_BioProject',\n",
       " 'study_GEO',\n",
       " 'study_abstract',\n",
       " 'study_alias',\n",
       " 'study_attributes',\n",
       " 'study_broker_name',\n",
       " 'study_center_name',\n",
       " 'study_description',\n",
       " 'study_identifiers',\n",
       " 'study_study_type',\n",
       " 'study_title',\n",
       " 'study_xrefs',\n",
       " 'study_Status',\n",
       " 'study_Received',\n",
       " 'study_Published',\n",
       " 'study_LastUpdate',\n",
       " 'study_LastMetaUpdate',\n",
       " 'study_ReplacedBy',\n",
       " 'study_Insdc']"
      ]
     },
     "execution_count": 8,
     "metadata": {},
     "output_type": "execute_result"
    }
   ],
   "source": [
    "df.columns"
   ]
  },
  {
   "cell_type": "code",
   "execution_count": 11,
   "metadata": {},
   "outputs": [
    {
     "name": "stdout",
     "output_type": "stream",
     "text": [
      "root\n",
      " |-- BioProject: string (nullable = true)\n",
      " |-- GEO: string (nullable = true)\n",
      " |-- abstract: string (nullable = true)\n",
      " |-- accession: string (nullable = true)\n",
      " |-- alias: string (nullable = true)\n",
      " |-- attributes: array (nullable = true)\n",
      " |    |-- element: struct (containsNull = true)\n",
      " |    |    |-- tag: string (nullable = true)\n",
      " |    |    |-- value: string (nullable = true)\n",
      " |-- broker_name: string (nullable = true)\n",
      " |-- center_name: string (nullable = true)\n",
      " |-- description: string (nullable = true)\n",
      " |-- identifiers: array (nullable = true)\n",
      " |    |-- element: struct (containsNull = true)\n",
      " |    |    |-- id: string (nullable = true)\n",
      " |    |    |-- namespace: string (nullable = true)\n",
      " |-- study_accession: string (nullable = true)\n",
      " |-- study_type: string (nullable = true)\n",
      " |-- title: string (nullable = true)\n",
      " |-- xrefs: array (nullable = true)\n",
      " |    |-- element: struct (containsNull = true)\n",
      " |    |    |-- db: string (nullable = true)\n",
      " |    |    |-- id: string (nullable = true)\n",
      " |-- Status: string (nullable = true)\n",
      " |-- Received: timestamp (nullable = true)\n",
      " |-- Published: timestamp (nullable = true)\n",
      " |-- LastUpdate: timestamp (nullable = true)\n",
      " |-- LastMetaUpdate: timestamp (nullable = true)\n",
      " |-- ReplacedBy: string (nullable = true)\n",
      " |-- Insdc: boolean (nullable = true)\n",
      "\n"
     ]
    }
   ],
   "source": [
    "sra['study'].printSchema()"
   ]
  },
  {
   "cell_type": "code",
   "execution_count": null,
   "metadata": {},
   "outputs": [],
   "source": []
  }
 ],
 "metadata": {
  "kernelspec": {
   "display_name": "Python 3",
   "language": "python",
   "name": "python3"
  },
  "language_info": {
   "codemirror_mode": {
    "name": "ipython",
    "version": 3
   },
   "file_extension": ".py",
   "mimetype": "text/x-python",
   "name": "python",
   "nbconvert_exporter": "python",
   "pygments_lexer": "ipython3",
   "version": "3.4.7"
  }
 },
 "nbformat": 4,
 "nbformat_minor": 2
}
