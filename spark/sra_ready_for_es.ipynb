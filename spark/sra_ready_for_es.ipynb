{
 "cells": [
  {
   "cell_type": "code",
   "execution_count": 1,
   "metadata": {},
   "outputs": [],
   "source": [
    "import findspark\n",
    "findspark.init()\n",
    "import pyspark\n"
   ]
  },
  {
   "cell_type": "code",
   "execution_count": 2,
   "metadata": {},
   "outputs": [],
   "source": [
    "sc = pyspark.SparkContext(appName=\"test_jupyterlab\")"
   ]
  },
  {
   "cell_type": "code",
   "execution_count": 3,
   "metadata": {},
   "outputs": [],
   "source": [
    "from pyspark import SQLContext"
   ]
  },
  {
   "cell_type": "code",
   "execution_count": 4,
   "metadata": {},
   "outputs": [],
   "source": [
    "sql = SQLContext(sc)"
   ]
  },
  {
   "cell_type": "code",
   "execution_count": 5,
   "metadata": {},
   "outputs": [],
   "source": [
    "base_url = \"s3://omicidx.cancerdatasci.org/sra/NCBI_SRA_Mirroring_20180601_Full/\""
   ]
  },
  {
   "cell_type": "code",
   "execution_count": 6,
   "metadata": {},
   "outputs": [],
   "source": [
    "def get_sra_dfs(base_url):\n",
    "    \"\"\"Read sra data from parquet (stored previously)\n",
    "    \n",
    "    :param: base_url the url of the parquet directory\n",
    "    \n",
    "    Returns: a dict with keys of entities (\"experiment\", \"sample\", etc.)\n",
    "    \"\"\"\n",
    "    entities = \"experiment sample run study\".split()\n",
    "    import os\n",
    "    return dict((n, sql.read.parquet(os.path.join(base_url,\"parquet\",\"{}_parquet\".format(n)))) for n in entities)"
   ]
  },
  {
   "cell_type": "code",
   "execution_count": 7,
   "metadata": {},
   "outputs": [],
   "source": [
    "sra_dfs = get_sra_dfs(base_url)"
   ]
  },
  {
   "cell_type": "code",
   "execution_count": 8,
   "metadata": {},
   "outputs": [],
   "source": [
    "def prepend_colnames(df, prepend, sep = \"_\"):\n",
    "    for c in df.columns:\n",
    "        if(c.startswith(prepend)):\n",
    "            continue\n",
    "        if(c.endswith('accession') & (c!='accession')):\n",
    "            continue\n",
    "        df = df.withColumnRenamed(c, prepend + sep + c)\n",
    "    return(df)"
   ]
  },
  {
   "cell_type": "code",
   "execution_count": 9,
   "metadata": {},
   "outputs": [],
   "source": [
    "e = prepend_colnames(sra_dfs['experiment'].drop('experiment_accession'), 'experiment')\n",
    "r = prepend_colnames(sra_dfs['run'], 'run')\n",
    "st = prepend_colnames(sra_dfs['study'].drop('study_accession'), 'study')\n",
    "sa = prepend_colnames(sra_dfs['sample'], 'sample')"
   ]
  },
  {
   "cell_type": "code",
   "execution_count": 10,
   "metadata": {},
   "outputs": [],
   "source": [
    "x=r.join(e, 'experiment_accession', 'left')\\\n",
    "   .join(st, 'study_accession', 'left')\\\n",
    "   .join(sa, 'sample_accession', 'left')\\\n",
    "   .cache()"
   ]
  },
  {
   "cell_type": "code",
   "execution_count": 11,
   "metadata": {},
   "outputs": [],
   "source": [
    "y = x.limit(100000).repartition(25)"
   ]
  },
  {
   "cell_type": "code",
   "execution_count": 12,
   "metadata": {},
   "outputs": [
    {
     "data": {
      "text/plain": [
       "25"
      ]
     },
     "execution_count": 12,
     "metadata": {},
     "output_type": "execute_result"
    }
   ],
   "source": [
    "y.rdd.getNumPartitions()"
   ]
  },
  {
   "cell_type": "code",
   "execution_count": 43,
   "metadata": {},
   "outputs": [],
   "source": [
    "y.write.json('s3://omicidx.cancerdatasci.org/tmp/full_json')"
   ]
  },
  {
   "cell_type": "code",
   "execution_count": null,
   "metadata": {},
   "outputs": [],
   "source": [
    "# may need to change last line to: .save('sra_full2/doc', overwrite=\"true\") \n",
    "# if the index exists and want to overwrite. Note that this will remove\n",
    "# all index entries prior to writing.\n",
    "x.write.format(\"org.elasticsearch.spark.sql\")\\\n",
    "    .option(\"es.nodes.wan.only\",\"true\")\\\n",
    "    .option(\"es.net.http.auth.user\",\"omicidx\")\\\n",
    "    .option(\"es.net.http.auth.pass\",\"Asdf1234%\")\\\n",
    "    .option(\"es.net.ssl\",\"true\")\\\n",
    "    .option(\"es.nodes\",\"c0b1083b4d78495d3b29a72d74fcea41.us-east-1.aws.found.io\")\\\n",
    "    .option(\"es.port\",\"9243\")\\\n",
    "    .option(\"es.mapping.id\", \"run_accession\")\\\n",
    "    .save('sra_full/doc')"
   ]
  },
  {
   "cell_type": "code",
   "execution_count": 32,
   "metadata": {},
   "outputs": [],
   "source": [
    "y = x.sample(False, 0.01, 1).cache()"
   ]
  },
  {
   "cell_type": "code",
   "execution_count": null,
   "metadata": {},
   "outputs": [
    {
     "name": "stdout",
     "output_type": "stream",
     "text": [
      "run\n"
     ]
    }
   ],
   "source": [
    "sra_dfs['study'] = sra_dfs['study'].drop('study_accession')\n",
    "sra_dfs['experiment'] = sra_dfs['experiment'].drop('experiment_accession')\n",
    "for i in sra_dfs.keys():\n",
    "    print(i)\n",
    "    sra_dfs[i].write.format(\"org.elasticsearch.spark.sql\")\\\n",
    "        .option(\"es.nodes.wan.only\",\"true\")\\\n",
    "        .option(\"es.net.http.auth.user\",\"omicidx\")\\\n",
    "        .option(\"es.net.http.auth.pass\",\"Asdf1234%\")\\\n",
    "        .option(\"es.net.ssl\",\"true\")\\\n",
    "        .option(\"es.nodes\",\"c0b1083b4d78495d3b29a72d74fcea41.us-east-1.aws.found.io\")\\\n",
    "        .option(\"es.port\",\"9243\")\\\n",
    "        .option(\"es.mapping.id\", \"accession\")\\\n",
    "        .save('sra_{}/doc'.format(i), mode='overwrite')"
   ]
  },
  {
   "cell_type": "code",
   "execution_count": 21,
   "metadata": {},
   "outputs": [
    {
     "data": {
      "text/plain": [
       "['BioProject',\n",
       " 'GEO',\n",
       " 'abstract',\n",
       " 'accession',\n",
       " 'alias',\n",
       " 'attributes',\n",
       " 'broker_name',\n",
       " 'center_name',\n",
       " 'description',\n",
       " 'identifiers',\n",
       " 'study_accession',\n",
       " 'study_type',\n",
       " 'title',\n",
       " 'xrefs',\n",
       " 'Status',\n",
       " 'Received',\n",
       " 'Published',\n",
       " 'LastUpdate',\n",
       " 'LastMetaUpdate',\n",
       " 'ReplacedBy',\n",
       " 'Insdc']"
      ]
     },
     "execution_count": 21,
     "metadata": {},
     "output_type": "execute_result"
    }
   ],
   "source": [
    "sra_dfs['study'].columns"
   ]
  },
  {
   "cell_type": "code",
   "execution_count": 41,
   "metadata": {},
   "outputs": [],
   "source": [
    "y = x.limit(50)"
   ]
  },
  {
   "cell_type": "code",
   "execution_count": 42,
   "metadata": {},
   "outputs": [
    {
     "ename": "Py4JJavaError",
     "evalue": "An error occurred while calling o1058.save.\n: java.lang.NullPointerException\n\tat org.elasticsearch.hadoop.rest.RestRepository.flush(RestRepository.java:196)\n\tat org.elasticsearch.hadoop.rest.RestRepository.delete(RestRepository.java:414)\n\tat org.elasticsearch.spark.sql.ElasticsearchRelation.insert(DefaultSource.scala:606)\n\tat org.elasticsearch.spark.sql.DefaultSource.createRelation(DefaultSource.scala:104)\n\tat org.apache.spark.sql.execution.datasources.SaveIntoDataSourceCommand.run(SaveIntoDataSourceCommand.scala:46)\n\tat org.apache.spark.sql.execution.command.ExecutedCommandExec.sideEffectResult$lzycompute(commands.scala:70)\n\tat org.apache.spark.sql.execution.command.ExecutedCommandExec.sideEffectResult(commands.scala:68)\n\tat org.apache.spark.sql.execution.command.ExecutedCommandExec.doExecute(commands.scala:86)\n\tat org.apache.spark.sql.execution.SparkPlan$$anonfun$execute$1.apply(SparkPlan.scala:131)\n\tat org.apache.spark.sql.execution.SparkPlan$$anonfun$execute$1.apply(SparkPlan.scala:127)\n\tat org.apache.spark.sql.execution.SparkPlan$$anonfun$executeQuery$1.apply(SparkPlan.scala:155)\n\tat org.apache.spark.rdd.RDDOperationScope$.withScope(RDDOperationScope.scala:151)\n\tat org.apache.spark.sql.execution.SparkPlan.executeQuery(SparkPlan.scala:152)\n\tat org.apache.spark.sql.execution.SparkPlan.execute(SparkPlan.scala:127)\n\tat org.apache.spark.sql.execution.QueryExecution.toRdd$lzycompute(QueryExecution.scala:80)\n\tat org.apache.spark.sql.execution.QueryExecution.toRdd(QueryExecution.scala:80)\n\tat org.apache.spark.sql.DataFrameWriter$$anonfun$runCommand$1.apply(DataFrameWriter.scala:654)\n\tat org.apache.spark.sql.DataFrameWriter$$anonfun$runCommand$1.apply(DataFrameWriter.scala:654)\n\tat org.apache.spark.sql.execution.SQLExecution$.withNewExecutionId(SQLExecution.scala:77)\n\tat org.apache.spark.sql.DataFrameWriter.runCommand(DataFrameWriter.scala:654)\n\tat org.apache.spark.sql.DataFrameWriter.saveToV1Source(DataFrameWriter.scala:273)\n\tat org.apache.spark.sql.DataFrameWriter.save(DataFrameWriter.scala:267)\n\tat org.apache.spark.sql.DataFrameWriter.save(DataFrameWriter.scala:225)\n\tat sun.reflect.GeneratedMethodAccessor307.invoke(Unknown Source)\n\tat sun.reflect.DelegatingMethodAccessorImpl.invoke(DelegatingMethodAccessorImpl.java:43)\n\tat java.lang.reflect.Method.invoke(Method.java:498)\n\tat py4j.reflection.MethodInvoker.invoke(MethodInvoker.java:244)\n\tat py4j.reflection.ReflectionEngine.invoke(ReflectionEngine.java:357)\n\tat py4j.Gateway.invoke(Gateway.java:282)\n\tat py4j.commands.AbstractCommand.invokeMethod(AbstractCommand.java:132)\n\tat py4j.commands.CallCommand.execute(CallCommand.java:79)\n\tat py4j.GatewayConnection.run(GatewayConnection.java:214)\n\tat java.lang.Thread.run(Thread.java:748)\n",
     "output_type": "error",
     "traceback": [
      "\u001b[0;31m---------------------------------------------------------------------------\u001b[0m",
      "\u001b[0;31mPy4JJavaError\u001b[0m                             Traceback (most recent call last)",
      "\u001b[0;32m<ipython-input-42-70626d587e4d>\u001b[0m in \u001b[0;36m<module>\u001b[0;34m()\u001b[0m\n\u001b[0;32m----> 1\u001b[0;31m \u001b[0my\u001b[0m\u001b[0;34m.\u001b[0m\u001b[0mwrite\u001b[0m\u001b[0;34m.\u001b[0m\u001b[0mformat\u001b[0m\u001b[0;34m(\u001b[0m\u001b[0;34m\"org.elasticsearch.spark.sql\"\u001b[0m\u001b[0;34m)\u001b[0m    \u001b[0;34m.\u001b[0m\u001b[0moption\u001b[0m\u001b[0;34m(\u001b[0m\u001b[0;34m\"es.nodes.wan.only\"\u001b[0m\u001b[0;34m,\u001b[0m\u001b[0;34m\"true\"\u001b[0m\u001b[0;34m)\u001b[0m    \u001b[0;34m.\u001b[0m\u001b[0moption\u001b[0m\u001b[0;34m(\u001b[0m\u001b[0;34m\"es.net.http.auth.user\"\u001b[0m\u001b[0;34m,\u001b[0m\u001b[0;34m\"omicidx\"\u001b[0m\u001b[0;34m)\u001b[0m    \u001b[0;34m.\u001b[0m\u001b[0moption\u001b[0m\u001b[0;34m(\u001b[0m\u001b[0;34m\"es.net.http.auth.pass\"\u001b[0m\u001b[0;34m,\u001b[0m\u001b[0;34m\"Asdf1234%\"\u001b[0m\u001b[0;34m)\u001b[0m    \u001b[0;34m.\u001b[0m\u001b[0moption\u001b[0m\u001b[0;34m(\u001b[0m\u001b[0;34m\"es.net.ssl\"\u001b[0m\u001b[0;34m,\u001b[0m\u001b[0;34m\"true\"\u001b[0m\u001b[0;34m)\u001b[0m    \u001b[0;34m.\u001b[0m\u001b[0moption\u001b[0m\u001b[0;34m(\u001b[0m\u001b[0;34m\"es.nodes\"\u001b[0m\u001b[0;34m,\u001b[0m\u001b[0;34m\"c0b1083b4d78495d3b29a72d74fcea41.us-east-1.aws.found.io\"\u001b[0m\u001b[0;34m)\u001b[0m    \u001b[0;34m.\u001b[0m\u001b[0moption\u001b[0m\u001b[0;34m(\u001b[0m\u001b[0;34m\"es.port\"\u001b[0m\u001b[0;34m,\u001b[0m\u001b[0;34m\"9243\"\u001b[0m\u001b[0;34m)\u001b[0m    \u001b[0;34m.\u001b[0m\u001b[0moption\u001b[0m\u001b[0;34m(\u001b[0m\u001b[0;34m\"es.mapping.id\"\u001b[0m\u001b[0;34m,\u001b[0m \u001b[0;34m\"run_accession\"\u001b[0m\u001b[0;34m)\u001b[0m    \u001b[0;34m.\u001b[0m\u001b[0msave\u001b[0m\u001b[0;34m(\u001b[0m\u001b[0;34m'sra_full/doc'\u001b[0m\u001b[0;34m,\u001b[0m \u001b[0mmode\u001b[0m\u001b[0;34m=\u001b[0m\u001b[0;34m'overwrite'\u001b[0m\u001b[0;34m)\u001b[0m\u001b[0;34m\u001b[0m\u001b[0m\n\u001b[0m",
      "\u001b[0;32m/usr/lib/spark/python/pyspark/sql/readwriter.py\u001b[0m in \u001b[0;36msave\u001b[0;34m(self, path, format, mode, partitionBy, **options)\u001b[0m\n\u001b[1;32m    701\u001b[0m             \u001b[0mself\u001b[0m\u001b[0;34m.\u001b[0m\u001b[0m_jwrite\u001b[0m\u001b[0;34m.\u001b[0m\u001b[0msave\u001b[0m\u001b[0;34m(\u001b[0m\u001b[0;34m)\u001b[0m\u001b[0;34m\u001b[0m\u001b[0m\n\u001b[1;32m    702\u001b[0m         \u001b[0;32melse\u001b[0m\u001b[0;34m:\u001b[0m\u001b[0;34m\u001b[0m\u001b[0m\n\u001b[0;32m--> 703\u001b[0;31m             \u001b[0mself\u001b[0m\u001b[0;34m.\u001b[0m\u001b[0m_jwrite\u001b[0m\u001b[0;34m.\u001b[0m\u001b[0msave\u001b[0m\u001b[0;34m(\u001b[0m\u001b[0mpath\u001b[0m\u001b[0;34m)\u001b[0m\u001b[0;34m\u001b[0m\u001b[0m\n\u001b[0m\u001b[1;32m    704\u001b[0m \u001b[0;34m\u001b[0m\u001b[0m\n\u001b[1;32m    705\u001b[0m     \u001b[0;34m@\u001b[0m\u001b[0msince\u001b[0m\u001b[0;34m(\u001b[0m\u001b[0;36m1.4\u001b[0m\u001b[0;34m)\u001b[0m\u001b[0;34m\u001b[0m\u001b[0m\n",
      "\u001b[0;32m/usr/lib/spark/python/lib/py4j-src.zip/py4j/java_gateway.py\u001b[0m in \u001b[0;36m__call__\u001b[0;34m(self, *args)\u001b[0m\n\u001b[1;32m   1158\u001b[0m         \u001b[0manswer\u001b[0m \u001b[0;34m=\u001b[0m \u001b[0mself\u001b[0m\u001b[0;34m.\u001b[0m\u001b[0mgateway_client\u001b[0m\u001b[0;34m.\u001b[0m\u001b[0msend_command\u001b[0m\u001b[0;34m(\u001b[0m\u001b[0mcommand\u001b[0m\u001b[0;34m)\u001b[0m\u001b[0;34m\u001b[0m\u001b[0m\n\u001b[1;32m   1159\u001b[0m         return_value = get_return_value(\n\u001b[0;32m-> 1160\u001b[0;31m             answer, self.gateway_client, self.target_id, self.name)\n\u001b[0m\u001b[1;32m   1161\u001b[0m \u001b[0;34m\u001b[0m\u001b[0m\n\u001b[1;32m   1162\u001b[0m         \u001b[0;32mfor\u001b[0m \u001b[0mtemp_arg\u001b[0m \u001b[0;32min\u001b[0m \u001b[0mtemp_args\u001b[0m\u001b[0;34m:\u001b[0m\u001b[0;34m\u001b[0m\u001b[0m\n",
      "\u001b[0;32m/usr/lib/spark/python/pyspark/sql/utils.py\u001b[0m in \u001b[0;36mdeco\u001b[0;34m(*a, **kw)\u001b[0m\n\u001b[1;32m     61\u001b[0m     \u001b[0;32mdef\u001b[0m \u001b[0mdeco\u001b[0m\u001b[0;34m(\u001b[0m\u001b[0;34m*\u001b[0m\u001b[0ma\u001b[0m\u001b[0;34m,\u001b[0m \u001b[0;34m**\u001b[0m\u001b[0mkw\u001b[0m\u001b[0;34m)\u001b[0m\u001b[0;34m:\u001b[0m\u001b[0;34m\u001b[0m\u001b[0m\n\u001b[1;32m     62\u001b[0m         \u001b[0;32mtry\u001b[0m\u001b[0;34m:\u001b[0m\u001b[0;34m\u001b[0m\u001b[0m\n\u001b[0;32m---> 63\u001b[0;31m             \u001b[0;32mreturn\u001b[0m \u001b[0mf\u001b[0m\u001b[0;34m(\u001b[0m\u001b[0;34m*\u001b[0m\u001b[0ma\u001b[0m\u001b[0;34m,\u001b[0m \u001b[0;34m**\u001b[0m\u001b[0mkw\u001b[0m\u001b[0;34m)\u001b[0m\u001b[0;34m\u001b[0m\u001b[0m\n\u001b[0m\u001b[1;32m     64\u001b[0m         \u001b[0;32mexcept\u001b[0m \u001b[0mpy4j\u001b[0m\u001b[0;34m.\u001b[0m\u001b[0mprotocol\u001b[0m\u001b[0;34m.\u001b[0m\u001b[0mPy4JJavaError\u001b[0m \u001b[0;32mas\u001b[0m \u001b[0me\u001b[0m\u001b[0;34m:\u001b[0m\u001b[0;34m\u001b[0m\u001b[0m\n\u001b[1;32m     65\u001b[0m             \u001b[0ms\u001b[0m \u001b[0;34m=\u001b[0m \u001b[0me\u001b[0m\u001b[0;34m.\u001b[0m\u001b[0mjava_exception\u001b[0m\u001b[0;34m.\u001b[0m\u001b[0mtoString\u001b[0m\u001b[0;34m(\u001b[0m\u001b[0;34m)\u001b[0m\u001b[0;34m\u001b[0m\u001b[0m\n",
      "\u001b[0;32m/usr/lib/spark/python/lib/py4j-src.zip/py4j/protocol.py\u001b[0m in \u001b[0;36mget_return_value\u001b[0;34m(answer, gateway_client, target_id, name)\u001b[0m\n\u001b[1;32m    318\u001b[0m                 raise Py4JJavaError(\n\u001b[1;32m    319\u001b[0m                     \u001b[0;34m\"An error occurred while calling {0}{1}{2}.\\n\"\u001b[0m\u001b[0;34m.\u001b[0m\u001b[0;34m\u001b[0m\u001b[0m\n\u001b[0;32m--> 320\u001b[0;31m                     format(target_id, \".\", name), value)\n\u001b[0m\u001b[1;32m    321\u001b[0m             \u001b[0;32melse\u001b[0m\u001b[0;34m:\u001b[0m\u001b[0;34m\u001b[0m\u001b[0m\n\u001b[1;32m    322\u001b[0m                 raise Py4JError(\n",
      "\u001b[0;31mPy4JJavaError\u001b[0m: An error occurred while calling o1058.save.\n: java.lang.NullPointerException\n\tat org.elasticsearch.hadoop.rest.RestRepository.flush(RestRepository.java:196)\n\tat org.elasticsearch.hadoop.rest.RestRepository.delete(RestRepository.java:414)\n\tat org.elasticsearch.spark.sql.ElasticsearchRelation.insert(DefaultSource.scala:606)\n\tat org.elasticsearch.spark.sql.DefaultSource.createRelation(DefaultSource.scala:104)\n\tat org.apache.spark.sql.execution.datasources.SaveIntoDataSourceCommand.run(SaveIntoDataSourceCommand.scala:46)\n\tat org.apache.spark.sql.execution.command.ExecutedCommandExec.sideEffectResult$lzycompute(commands.scala:70)\n\tat org.apache.spark.sql.execution.command.ExecutedCommandExec.sideEffectResult(commands.scala:68)\n\tat org.apache.spark.sql.execution.command.ExecutedCommandExec.doExecute(commands.scala:86)\n\tat org.apache.spark.sql.execution.SparkPlan$$anonfun$execute$1.apply(SparkPlan.scala:131)\n\tat org.apache.spark.sql.execution.SparkPlan$$anonfun$execute$1.apply(SparkPlan.scala:127)\n\tat org.apache.spark.sql.execution.SparkPlan$$anonfun$executeQuery$1.apply(SparkPlan.scala:155)\n\tat org.apache.spark.rdd.RDDOperationScope$.withScope(RDDOperationScope.scala:151)\n\tat org.apache.spark.sql.execution.SparkPlan.executeQuery(SparkPlan.scala:152)\n\tat org.apache.spark.sql.execution.SparkPlan.execute(SparkPlan.scala:127)\n\tat org.apache.spark.sql.execution.QueryExecution.toRdd$lzycompute(QueryExecution.scala:80)\n\tat org.apache.spark.sql.execution.QueryExecution.toRdd(QueryExecution.scala:80)\n\tat org.apache.spark.sql.DataFrameWriter$$anonfun$runCommand$1.apply(DataFrameWriter.scala:654)\n\tat org.apache.spark.sql.DataFrameWriter$$anonfun$runCommand$1.apply(DataFrameWriter.scala:654)\n\tat org.apache.spark.sql.execution.SQLExecution$.withNewExecutionId(SQLExecution.scala:77)\n\tat org.apache.spark.sql.DataFrameWriter.runCommand(DataFrameWriter.scala:654)\n\tat org.apache.spark.sql.DataFrameWriter.saveToV1Source(DataFrameWriter.scala:273)\n\tat org.apache.spark.sql.DataFrameWriter.save(DataFrameWriter.scala:267)\n\tat org.apache.spark.sql.DataFrameWriter.save(DataFrameWriter.scala:225)\n\tat sun.reflect.GeneratedMethodAccessor307.invoke(Unknown Source)\n\tat sun.reflect.DelegatingMethodAccessorImpl.invoke(DelegatingMethodAccessorImpl.java:43)\n\tat java.lang.reflect.Method.invoke(Method.java:498)\n\tat py4j.reflection.MethodInvoker.invoke(MethodInvoker.java:244)\n\tat py4j.reflection.ReflectionEngine.invoke(ReflectionEngine.java:357)\n\tat py4j.Gateway.invoke(Gateway.java:282)\n\tat py4j.commands.AbstractCommand.invokeMethod(AbstractCommand.java:132)\n\tat py4j.commands.CallCommand.execute(CallCommand.java:79)\n\tat py4j.GatewayConnection.run(GatewayConnection.java:214)\n\tat java.lang.Thread.run(Thread.java:748)\n"
     ]
    }
   ],
   "source": [
    "y.write.format(\"org.elasticsearch.spark.sql\")\\\n",
    "    .option(\"es.nodes.wan.only\",\"true\")\\\n",
    "    .option(\"es.net.http.auth.user\",\"omicidx\")\\\n",
    "    .option(\"es.net.http.auth.pass\",\"Asdf1234%\")\\\n",
    "    .option(\"es.net.ssl\",\"true\")\\\n",
    "    .option(\"es.nodes\",\"c0b1083b4d78495d3b29a72d74fcea41.us-east-1.aws.found.io\")\\\n",
    "    .option(\"es.port\",\"9243\")\\\n",
    "    .option(\"es.mapping.id\", \"run_accession\")\\\n",
    "    .save('sra_full/doc', mode='overwrite')"
   ]
  },
  {
   "cell_type": "code",
   "execution_count": 38,
   "metadata": {},
   "outputs": [
    {
     "name": "stdout",
     "output_type": "stream",
     "text": [
      "+----------------+---------------+--------------------+---------+--------------------+---------------+---------------+--------------------+----------+---------+-------------+----------+--------+---------------+---------+----------+----------+-------------------+-------------------+-------------------+-------------------+--------------+---------+--------------------+------------+--------------------+-------------------+----------------+---------------------+----------------------+----------------------+----------------------+--------------------+----------------------+---------------------------+----------------------------------------+-------------------------+--------------------------------+-------------------------------------+------------------------------+-----------------------+----------------------------+-------------------------+---------------------------+-------------------+--------------------+----------------+-----------------+-------------------+--------------------+---------------------+-------------------------+---------------------+----------------+----------------+---------+--------------------+-----------+----------------+-----------------+-----------------+--------------------+--------------------+---------------+--------------------+--------------------+--------------------+------------+-------------------+-------------------+-------------------+--------------------+----------------+-----------+----------------+----------+------------+--------------------+------------------+------------------+------------------+--------------------+--------------------+---------------+--------------------+------------+-----------+---------------------+-------------------------+-------------+-------------------+-------------------+-------------------+---------------------+-----------------+------------+\n",
      "|sample_accession|study_accession|experiment_accession|run_alias|      run_attributes|run_broker_name|run_center_name|     run_identifiers|run_nreads|run_reads|run_accession|run_center|run_date|run_spot_length|run_spots| run_bases|run_Status|       run_Received|      run_Published|     run_LastUpdate| run_LastMetaUpdate|run_ReplacedBy|run_Insdc|     run_file_addons|run_FileSize|         run_FileMd5|       run_FileDate|experiment_alias|experiment_attributes|experiment_broker_name|experiment_center_name|experiment_description|   experiment_design|experiment_identifiers|experiment_instrument_model|experiment_library_construction_protocol|experiment_library_layout|experiment_library_layout_length|experiment_library_layout_orientation|experiment_library_layout_sdev|experiment_library_name|experiment_library_selection|experiment_library_source|experiment_library_strategy|experiment_platform|    experiment_title|experiment_xrefs|experiment_Status|experiment_Received|experiment_Published|experiment_LastUpdate|experiment_LastMetaUpdate|experiment_ReplacedBy|experiment_Insdc|study_BioProject|study_GEO|      study_abstract|study_alias|study_attributes|study_broker_name|study_center_name|   study_description|   study_identifiers|study_accession|          study_type|         study_title|         study_xrefs|study_Status|     study_Received|    study_Published|   study_LastUpdate|study_LastMetaUpdate|study_ReplacedBy|study_Insdc|sample_BioSample|sample_GEO|sample_alias|   sample_attributes|sample_broker_name|sample_center_name|sample_description|  sample_identifiers|     sample_organism|sample_taxon_id|        sample_title|sample_xrefs|sample_type|sample_ontology_terms|sample_numeric_properties|sample_Status|    sample_Received|   sample_Published|  sample_LastUpdate|sample_LastMetaUpdate|sample_ReplacedBy|sample_Insdc|\n",
      "+----------------+---------------+--------------------+---------+--------------------+---------------+---------------+--------------------+----------+---------+-------------+----------+--------+---------------+---------+----------+----------+-------------------+-------------------+-------------------+-------------------+--------------+---------+--------------------+------------+--------------------+-------------------+----------------+---------------------+----------------------+----------------------+----------------------+--------------------+----------------------+---------------------------+----------------------------------------+-------------------------+--------------------------------+-------------------------------------+------------------------------+-----------------------+----------------------------+-------------------------+---------------------------+-------------------+--------------------+----------------+-----------------+-------------------+--------------------+---------------------+-------------------------+---------------------+----------------+----------------+---------+--------------------+-----------+----------------+-----------------+-----------------+--------------------+--------------------+---------------+--------------------+--------------------+--------------------+------------+-------------------+-------------------+-------------------+--------------------+----------------+-----------+----------------+----------+------------+--------------------+------------------+------------------+------------------+--------------------+--------------------+---------------+--------------------+------------+-----------+---------------------+-------------------------+-------------+-------------------+-------------------+-------------------+---------------------+-----------------+------------+\n",
      "|       DRS000023|      DRP000023|           DRX000023|DRR000060|[[notes, repackag...|           null|         UT-MGS|[[DRR000060, UT-M...|      null|       []|    DRR000060|    UT-MGS|    null|              0|  6219174| 223890264|      live|2009-09-08 05:01:09|2015-02-06 06:46:37|2015-02-06 06:46:37|2014-07-31 17:39:14|          null|     true|                null|   683103287|5ce64fa88102aacc7...|2014-05-26 12:27:42|       DRX000023|                 null|                  null|                UT-MGS|                  null|Transcriptional s...|  [[DRX000023, UT-M...|       Illumina Genome A...|                           none provided|                   SINGLE|                            null|                                 null|                          null|      human_Fetal_brain|                        cDNA|           TRANSCRIPTOMIC|                    FL-cDNA|           ILLUMINA|     Fetal_brain TSS|            null|             live|2009-09-08 05:01:07| 2015-02-06 06:46:37|  2015-02-06 06:46:37|      2015-01-30 13:38:57|                 null|            true|      PRJDA34559|     null|Comprehensive ide...|  DRP000023|            null|             null|           UT-MGS|Although recent s...|[[PRJDA34559, Bio...|      DRP000023|Transcriptome Ana...|Massive transcrip...|                null|        live|2009-09-08 05:01:03|2015-02-06 06:46:32|2017-09-17 09:55:35| 2015-01-30 13:38:57|            null|       true|    SAMD00000647|      null|SAMD00000647|[[sample_name, DR...|              null|              null|              null|[[SAMD00000647, B...|        Homo sapiens|           9606|           DRS000023|        null|       null|                 null|                     null|         live|2009-09-08 05:01:05|2014-07-31 22:39:25|2018-04-16 21:17:29|  2018-04-16 21:17:29|             null|        true|\n",
      "|       DRS000023|      DRP000023|           DRX000023|DRR000061|[[notes, repackag...|           null|         UT-MGS|[[DRR000061, UT-M...|      null|       []|    DRR000061|    UT-MGS|    null|              0|  6082236| 218960496|      live|2009-09-08 05:01:10|2015-02-06 06:46:37|2015-02-06 06:46:37|2014-07-31 17:39:14|          null|     true|                null|   667448995|5ab617e7365cea90c...|2014-05-26 12:27:15|       DRX000023|                 null|                  null|                UT-MGS|                  null|Transcriptional s...|  [[DRX000023, UT-M...|       Illumina Genome A...|                           none provided|                   SINGLE|                            null|                                 null|                          null|      human_Fetal_brain|                        cDNA|           TRANSCRIPTOMIC|                    FL-cDNA|           ILLUMINA|     Fetal_brain TSS|            null|             live|2009-09-08 05:01:07| 2015-02-06 06:46:37|  2015-02-06 06:46:37|      2015-01-30 13:38:57|                 null|            true|      PRJDA34559|     null|Comprehensive ide...|  DRP000023|            null|             null|           UT-MGS|Although recent s...|[[PRJDA34559, Bio...|      DRP000023|Transcriptome Ana...|Massive transcrip...|                null|        live|2009-09-08 05:01:03|2015-02-06 06:46:32|2017-09-17 09:55:35| 2015-01-30 13:38:57|            null|       true|    SAMD00000647|      null|SAMD00000647|[[sample_name, DR...|              null|              null|              null|[[SAMD00000647, B...|        Homo sapiens|           9606|           DRS000023|        null|       null|                 null|                     null|         live|2009-09-08 05:01:05|2014-07-31 22:39:25|2018-04-16 21:17:29|  2018-04-16 21:17:29|             null|        true|\n",
      "|       DRS000023|      DRP000023|           DRX000023|DRR000062|[[notes, repackag...|           null|         UT-MGS|[[DRR000062, UT-M...|      null|       []|    DRR000062|    UT-MGS|    null|              0|  6095377| 219433572|      live|2009-09-08 05:01:10|2015-02-06 06:46:37|2015-02-06 06:46:37|2014-07-31 17:39:14|          null|     true|                null|   686198071|40ddc3b7061ac3c41...|2014-05-26 12:27:33|       DRX000023|                 null|                  null|                UT-MGS|                  null|Transcriptional s...|  [[DRX000023, UT-M...|       Illumina Genome A...|                           none provided|                   SINGLE|                            null|                                 null|                          null|      human_Fetal_brain|                        cDNA|           TRANSCRIPTOMIC|                    FL-cDNA|           ILLUMINA|     Fetal_brain TSS|            null|             live|2009-09-08 05:01:07| 2015-02-06 06:46:37|  2015-02-06 06:46:37|      2015-01-30 13:38:57|                 null|            true|      PRJDA34559|     null|Comprehensive ide...|  DRP000023|            null|             null|           UT-MGS|Although recent s...|[[PRJDA34559, Bio...|      DRP000023|Transcriptome Ana...|Massive transcrip...|                null|        live|2009-09-08 05:01:03|2015-02-06 06:46:32|2017-09-17 09:55:35| 2015-01-30 13:38:57|            null|       true|    SAMD00000647|      null|SAMD00000647|[[sample_name, DR...|              null|              null|              null|[[SAMD00000647, B...|        Homo sapiens|           9606|           DRS000023|        null|       null|                 null|                     null|         live|2009-09-08 05:01:05|2014-07-31 22:39:25|2018-04-16 21:17:29|  2018-04-16 21:17:29|             null|        true|\n",
      "|       DRS000023|      DRP000023|           DRX000023|DRR000063|[[notes, repackag...|           null|         UT-MGS|[[DRR000063, UT-M...|      null|       []|    DRR000063|    UT-MGS|    null|              0|  6062563| 218252268|      live|2009-09-08 05:01:10|2015-02-06 06:46:37|2015-02-06 06:46:37|2014-07-31 17:39:14|          null|     true|                null|   684602476|3138e063b5b99b67b...|2014-05-26 12:27:19|       DRX000023|                 null|                  null|                UT-MGS|                  null|Transcriptional s...|  [[DRX000023, UT-M...|       Illumina Genome A...|                           none provided|                   SINGLE|                            null|                                 null|                          null|      human_Fetal_brain|                        cDNA|           TRANSCRIPTOMIC|                    FL-cDNA|           ILLUMINA|     Fetal_brain TSS|            null|             live|2009-09-08 05:01:07| 2015-02-06 06:46:37|  2015-02-06 06:46:37|      2015-01-30 13:38:57|                 null|            true|      PRJDA34559|     null|Comprehensive ide...|  DRP000023|            null|             null|           UT-MGS|Although recent s...|[[PRJDA34559, Bio...|      DRP000023|Transcriptome Ana...|Massive transcrip...|                null|        live|2009-09-08 05:01:03|2015-02-06 06:46:32|2017-09-17 09:55:35| 2015-01-30 13:38:57|            null|       true|    SAMD00000647|      null|SAMD00000647|[[sample_name, DR...|              null|              null|              null|[[SAMD00000647, B...|        Homo sapiens|           9606|           DRS000023|        null|       null|                 null|                     null|         live|2009-09-08 05:01:05|2014-07-31 22:39:25|2018-04-16 21:17:29|  2018-04-16 21:17:29|             null|        true|\n",
      "|       DRS001447|      DRP000589|           DRX001489|DRR002037|                null|           null|         NANKAI|[[DRR002037, NANK...|      null|       []|    DRR002037|    NANKAI|    null|              0|  3039542| 607908400|      live|2012-06-07 02:42:01|2012-06-07 03:08:13|2014-07-31 18:35:11|2014-07-31 18:34:39|          null|     true|[[8056, b5d83b25e...|   405142813|22033dabe10ec0e54...|2012-06-07 03:06:43|       DRX001489|                 null|                  null|                NANKAI|                  null|                null|  [[DRX001489, NANK...|       Illumina Genome A...|                                    null|                   PAIRED|                            null|                                 null|                          null|                   5W21|                      RANDOM|                  GENOMIC|                        WGS|           ILLUMINA|Resequencing of E...|            null|             live|2012-06-07 02:41:48| 2012-06-07 03:07:12|  2014-07-31 18:35:10|      2014-07-31 18:34:37|                 null|            true|       PRJDB2622|     null|Background Evolut...|  PRJDB2622|            null|             null|       BioProject|                null|[[PRJDB2622, BioP...|      DRP000589|               Other|The multiplicity ...|[[pubmed, 22682524]]|        live|2012-06-07 02:40:14|2013-10-18 05:08:55|2017-09-17 20:44:35| 2017-07-18 16:35:14|            null|       true|    SAMD00013258|      null|SAMD00013258|[[sample_name, DR...|              null|         BioSample|              null|[[SAMD00013258, B...|    Escherichia coli|            562|Escherichia coli ...|        null|       null|                 null|                     null|         live|2012-06-07 02:40:55|2012-06-07 16:50:27|2015-02-05 07:58:05|  2015-02-02 19:29:17|             null|        true|\n",
      "|       DRS001551|      DRP000602|           DRX001597|DRR002165|                null|           null|         UT_SCI|[[DRR002165, UT_S...|      null|       []|    DRR002165|    UT_MGS|    null|              0| 44795232|1612628352|      live|2014-03-26 05:07:56|2014-05-11 23:59:53|2014-07-31 18:37:08|2014-07-31 18:36:10|          null|     true|                null|   946930719|20dbe953a9f43d5e4...|2014-04-03 03:18:01|       DRX001597|                 null|                  null|                UT_SCI|                  null|                null|  [[DRX001597, UT_S...|       Illumina Genome A...|                                    null|                   SINGLE|                            null|                                 null|                          null|   Xenopus tropicali...|                        ChIP|                  GENOMIC|                   ChIP-Seq|           ILLUMINA|Xenopus tropicali...|            null|             live|2014-03-26 05:07:55| 2014-05-11 23:59:53|  2014-07-31 18:37:07|      2014-07-31 18:36:10|                 null|            true|       PRJDB2558|     null|Comprehensive ide...|  PRJDB2558|            null|             null|       BioProject|                null|[[PRJDB2558, BioP...|      DRP000602|               Other|Comprehensive ide...|                null|        live|2014-03-26 05:07:54|2014-05-11 23:59:53|2017-09-17 13:45:31| 2017-03-14 18:08:42|            null|       true|    SAMD00012585|      null|SAMD00012585|[[sample_name, DR...|              null|              null|              null|[[SAMD00012585, B...|  Xenopus tropicalis|           8364|Xenopus tropicali...|        null|       null|                 null|                     null|         live|2014-03-26 05:07:54|2014-05-11 23:59:53|2018-04-08 05:06:57|  2018-04-08 05:06:57|             null|        true|\n",
      "|       DRS002166|      DRP000716|           DRX002065|DRR002728|                null|           null|           NIAS|[[DRR002728, NIAS,]]|      null|       []|    DRR002728|      NIAS|    null|              0|  6592783| 501051508|      live|2014-03-26 05:50:15|2014-05-14 16:40:27|2014-07-31 18:48:13|2014-07-31 18:47:22|          null|     true|                null|   319265944|eaf7472bbbee04aa6...|2014-04-10 16:32:25|       DRX002065|                 null|                  null|                  NIAS|                  null|                null|  [[DRX002065, NIAS,]]|       Illumina Genome A...|                                    null|                   SINGLE|                            null|                                 null|                          null|                   null|                        cDNA|           TRANSCRIPTOMIC|                    RNA-Seq|           ILLUMINA|No.75 7 Kasalath_...|            null|             live|2014-03-26 05:50:11| 2014-05-14 16:40:27|  2014-07-31 18:48:13|      2014-07-31 18:47:21|                 null|            true|       PRJDB2658|     null|Rice has develope...|  PRJDB2658|            null|             null|       BioProject|                null|[[PRJDB2658, BioP...|      DRP000716|               Other|Diversity in the ...|                null|        live|2014-03-26 05:50:07|2014-05-14 16:35:44|2017-09-17 13:30:38| 2017-07-18 16:40:20|            null|       true|    SAMD00013593|      null|SAMD00013593|[[sample_name, DR...|              null|         BioSample|              null|[[SAMD00013593, B...|Oryza sativa Indi...|          39946| Kasalath_root_22day|        null|       null|                 null|                     null|         live|2014-03-26 05:50:09|2014-05-14 16:36:04|2015-02-05 07:17:56|  2015-02-03 06:07:29|             null|        true|\n",
      "|       DRS002166|      DRP000716|           DRX002066|DRR002729|                null|           null|           NIAS|[[DRR002729, NIAS,]]|      null|       []|    DRR002729|      NIAS|    null|              0|  1999378| 151952728|      live|2014-03-26 05:50:15|2014-05-14 16:40:27|2014-07-31 18:48:13|2014-07-31 18:47:22|          null|     true|                null|    95857564|b7ae95fd00d014587...|2014-04-10 16:32:05|       DRX002066|                 null|                  null|                  NIAS|                  null|                null|  [[DRX002066, NIAS,]]|       Illumina Genome A...|                                    null|                   SINGLE|                            null|                                 null|                          null|                   null|                        cDNA|           TRANSCRIPTOMIC|                    RNA-Seq|           ILLUMINA|No.75 1 Kasalath_...|            null|             live|2014-03-26 05:50:14| 2014-05-14 16:40:27|  2014-07-31 18:48:13|      2014-07-31 18:47:21|                 null|            true|       PRJDB2658|     null|Rice has develope...|  PRJDB2658|            null|             null|       BioProject|                null|[[PRJDB2658, BioP...|      DRP000716|               Other|Diversity in the ...|                null|        live|2014-03-26 05:50:07|2014-05-14 16:35:44|2017-09-17 13:30:38| 2017-07-18 16:40:20|            null|       true|    SAMD00013593|      null|SAMD00013593|[[sample_name, DR...|              null|         BioSample|              null|[[SAMD00013593, B...|Oryza sativa Indi...|          39946| Kasalath_root_22day|        null|       null|                 null|                     null|         live|2014-03-26 05:50:09|2014-05-14 16:36:04|2015-02-05 07:17:56|  2015-02-03 06:07:29|             null|        true|\n",
      "|       DRS002166|      DRP000716|           DRX002064|DRR002727|                null|           null|           NIAS|[[DRR002727, NIAS,]]|      null|       []|    DRR002727|      NIAS|    null|              0|  3138191| 238502516|      live|2014-03-26 05:50:16|2014-05-14 16:40:27|2014-07-31 18:48:13|2014-07-31 18:47:22|          null|     true|                null|   152273426|2c733a7e798b8c14c...|2014-04-10 16:34:40|       DRX002064|                 null|                  null|                  NIAS|                  null|                null|  [[DRX002064, NIAS,]]|       Illumina Genome A...|                                    null|                   SINGLE|                            null|                                 null|                          null|                   null|                        cDNA|           TRANSCRIPTOMIC|                    RNA-Seq|           ILLUMINA|No.75 6 Kasalath_...|            null|             live|2014-03-26 05:50:13| 2014-05-14 16:40:27|  2014-07-31 18:48:13|      2014-07-31 18:47:21|                 null|            true|       PRJDB2658|     null|Rice has develope...|  PRJDB2658|            null|             null|       BioProject|                null|[[PRJDB2658, BioP...|      DRP000716|               Other|Diversity in the ...|                null|        live|2014-03-26 05:50:07|2014-05-14 16:35:44|2017-09-17 13:30:38| 2017-07-18 16:40:20|            null|       true|    SAMD00013593|      null|SAMD00013593|[[sample_name, DR...|              null|         BioSample|              null|[[SAMD00013593, B...|Oryza sativa Indi...|          39946| Kasalath_root_22day|        null|       null|                 null|                     null|         live|2014-03-26 05:50:09|2014-05-14 16:36:04|2015-02-05 07:17:56|  2015-02-03 06:07:29|             null|        true|\n",
      "|       DRS002166|      DRP000716|           DRX002067|DRR002730|                null|           null|           NIAS|[[DRR002730, NIAS,]]|      null|       []|    DRR002730|      NIAS|    null|              0|  2959134| 224894184|      live|2014-03-26 05:50:15|2014-05-14 16:40:27|2014-07-31 18:48:13|2014-07-31 18:47:22|          null|     true|                null|   141675732|c48c794af6cb4c7b0...|2014-04-10 16:32:54|       DRX002067|                 null|                  null|                  NIAS|                  null|                null|  [[DRX002067, NIAS,]]|       Illumina Genome A...|                                    null|                   SINGLE|                            null|                                 null|                          null|                   null|                        cDNA|           TRANSCRIPTOMIC|                    RNA-Seq|           ILLUMINA|No.75 2 Kasalath_...|            null|             live|2014-03-26 05:50:10| 2014-05-14 16:40:27|  2014-07-31 18:48:13|      2014-07-31 18:47:21|                 null|            true|       PRJDB2658|     null|Rice has develope...|  PRJDB2658|            null|             null|       BioProject|                null|[[PRJDB2658, BioP...|      DRP000716|               Other|Diversity in the ...|                null|        live|2014-03-26 05:50:07|2014-05-14 16:35:44|2017-09-17 13:30:38| 2017-07-18 16:40:20|            null|       true|    SAMD00013593|      null|SAMD00013593|[[sample_name, DR...|              null|         BioSample|              null|[[SAMD00013593, B...|Oryza sativa Indi...|          39946| Kasalath_root_22day|        null|       null|                 null|                     null|         live|2014-03-26 05:50:09|2014-05-14 16:36:04|2015-02-05 07:17:56|  2015-02-03 06:07:29|             null|        true|\n",
      "|       DRS002182|      DRP000730|           DRX002089|DRR002752|                null|           null|         UT_COB|[[DRR002752, UT_C...|      null|       []|    DRR002752|    UT_COB|    null|              0|     9535|   4033231|      live|2015-09-05 14:20:26|2015-09-05 14:20:26|2015-10-22 14:54:36|2015-09-05 14:20:26|          null|     true|                null|     9860959|52876a1e24d928a5c...|2015-09-05 14:20:34|       DRX002089|                 null|                  null|                UT_COB|                  null|                null|  [[DRX002089, UT_C...|        454 GS FLX Titanium|                                    null|                   SINGLE|                            null|                                 null|                          null|                   null|                         PCR|              METAGENOMIC|                   AMPLICON|              LS454|16S amplicon sequ...|            null|             live|2015-09-05 14:20:26| 2015-09-05 14:20:26|  2015-10-22 14:58:17|      2015-09-05 14:20:26|                 null|            true|       PRJDB2244|     null|18 healthy indivi...|  PRJDB2244|            null|             null|       BioProject|                null|[[PRJDB2244, BioP...|      DRP000730|               Other|16S amplicon sequ...|                null|        live|2015-09-05 14:20:23|2015-09-05 14:20:23|2017-09-17 14:44:22| 2017-07-18 19:24:21|            null|       true|    SAMD00009500|      null|SAMD00009500|[[sample_name, DR...|              null|              null|              null|[[SAMD00009500, B...|human gut metagenome|         408170|16S amplicon sequ...|        null|       null|                 null|                     null|         live|2015-09-05 14:20:26|2015-09-05 14:20:26|2018-04-17 13:25:45|  2018-04-17 13:25:45|             null|        true|\n",
      "|       DRS002461|      DRP000759|           DRX002371|DRR003034|                null|           null|       KYOTO-GE|[[DRR003034, KYOT...|      null|       []|    DRR003034|  KYOTO-GE|    null|              0|       33|     18232|      live|2014-03-26 05:51:58|2014-04-12 06:08:00|2014-07-31 18:51:23|2014-07-31 18:50:42|          null|     true|                null|       81825|785a50ca7b33a3e38...|2014-04-10 16:45:31|       DRX002371|                 null|                  null|              KYOTO-GE|                  null|Each root tip was...|  [[DRX002371, KYOT...|              454 GS Junior|                                    null|                   SINGLE|                            null|                                 null|                          null|   G8VDHLE01__ACACCT...|                         PCR|              METAGENOMIC|                   AMPLICON|              LS454|G8VDHLE01__ACACCT...|            null|             live|2014-03-26 05:51:09| 2014-04-12 06:08:05|  2014-07-31 18:51:16|      2014-07-31 18:50:22|                 null|            true|       PRJDB2779|     null|The assembly of p...|  PRJDB2779|            null|             null|       BioProject|                null|[[PRJDB2779, BioP...|      DRP000759|               Other|Habitat specifici...|                null|        live|2014-03-26 05:50:27|2014-04-02 03:13:16|2017-09-17 13:10:51| 2017-07-18 16:40:20|            null|       true|    SAMD00016284|      null|SAMD00016284|[[sample_name, DR...|              null|         BioSample|              null|[[SAMD00016284, B...|rhizosphere metag...|         939928|G8VDHLE01__ACACCT...|        null|       null|                 null|                     null|         live|2014-03-26 05:50:38|2014-05-14 16:36:04|2015-02-05 07:03:20|  2015-02-03 06:36:31|             null|        true|\n",
      "|       DRS002765|      DRP000892|           DRX002670|DRR003348|                null|           null|        CHIBA_U|[[DRR003348, CHIB...|      null|       []|    DRR003348|    UT-MGS|    null|              0| 29659581|1067744916|      live|2014-03-26 05:28:53|2014-05-14 16:40:27|2014-07-31 19:07:09|2014-07-31 19:06:11|          null|     true|                null|   815323127|cc12351ee91d1c837...|2014-04-03 04:47:00|       DRX002670|                 null|                  null|               CHIBA_U|                  null|                null|  [[DRX002670, CHIB...|        Illumina HiSeq 2000|                                    null|                   SINGLE|                            null|                                 null|                          null|        DKO IP H3K27me3|                        ChIP|                  GENOMIC|                   ChIP-Seq|           ILLUMINA|     DKO IP H3K27me3|            null|             live|2014-03-26 05:28:51| 2014-05-14 16:40:27|  2014-07-31 19:07:08|      2014-07-31 19:06:10|                 null|            true|       PRJDB1805|     null|Inactivating soma...|  PRJDB1805|            null|             null|       BioProject|                null|[[PRJDB1805, BioP...|      DRP000892|               Other|Concurrent deplet...|[[pubmed, 24218139]]|        live|2014-03-26 05:28:48|2014-05-14 16:36:04|2017-09-17 20:48:07| 2017-07-18 16:39:57|            null|       true|    SAMD00000774|      null|SAMD00000774|[[sample_name, DR...|              null|         BioSample|              null|[[SAMD00000774, B...|        Mus musculus|          10090|     DKO IP H3K27me3|        null|       null|                 null|                     null|         live|2014-03-26 05:28:49|2014-05-14 16:36:04|2015-02-05 06:47:02|  2015-02-03 23:44:02|             null|        true|\n",
      "|       DRS002804|      DRP000901|           DRX002720|DRR003396|                null|           null|       KYOTO_GM|[[DRR003396, KYOT...|      null|       []|    DRR003396|  KYOTO_GM|    null|              0| 30821084|4684804768|      live|2014-04-10 17:00:42|2014-05-14 16:40:27|2014-07-31 19:08:10|2014-07-31 19:07:44|          null|     true|                null|        null|3d2d9d2256f8503fa...|2014-04-10 17:06:41|       DRX002720|                 null|                  null|              KYOTO_GM|                  null|                null|  [[DRX002720, KYOT...|       Illumina Genome A...|                                    null|                   PAIRED|                            null|                                 null|                          null|                   null|                      RANDOM|                  GENOMIC|                      OTHER|           ILLUMINA|Whole exome seque...|            null|             live|2014-04-10 17:00:40| 2014-05-14 16:40:27|  2014-07-31 19:08:09|      2014-07-31 19:07:42|                 null|            true|       PRJDB1838|     null|Background & Aims...|  PRJDB1838|            null|             null|       BioProject|                null|[[PRJDB1838, BioP...|      DRP000901|               Other|Somatic mutations...|                null|        live|2014-04-10 17:00:39|2014-05-14 16:36:04|2017-09-17 12:30:18| 2017-07-18 16:43:53|            null|       true|    SAMD00002705|      null|SAMD00002705|[[sample_name, DR...|              null|         BioSample|              null|[[SAMD00002705, B...|        Homo sapiens|           9606|Lymphocyte in Pat...|        null|       null|                 null|                     null|         live|2014-04-10 17:00:39|2014-05-14 16:38:20|2015-02-05 06:13:19|  2015-02-03 10:24:52|             null|        true|\n",
      "|       DRS003187|      DRP000946|           DRX003121|DRR003885|                null|           null|          JAIST|[[DRR003885, JAIS...|      null|       []|    DRR003885|     JAIST|    null|              0|   837710| 455760799|      live|2016-02-01 13:42:09|2016-02-01 13:43:11|2016-02-01 13:45:58|2016-02-01 13:42:09|          null|     true|                null|  1046559001|7a1816e20fd06548d...|2016-02-01 13:44:06|       DRX003121|                 null|                  null|                 JAIST|                  null|discovery of GH g...|  [[DRX003121, JAIS...|                 454 GS FLX|                                    null|                   SINGLE|                            null|                                 null|                          null|                   null|                        cDNA|       METATRANSCRIPTOMIC|                      OTHER|              LS454|     RNA-seq of EC30|            null|             live|2016-02-01 13:42:09| 2016-02-01 13:43:11|  2016-02-01 13:45:08|      2016-02-01 13:42:09|                 null|            true|        PRJDB739|     null|We performed the ...|  DRP000946|            null|             null|            JAIST|                null|[[PRJDB739, BioPr...|      DRP000946|               Other|discovery of GH g...|                null|        live|2016-02-01 13:42:04|2016-02-05 15:51:10|2017-09-17 16:17:16| 2017-07-18 20:13:29|            null|       true|    SAMD00010145|      null|SAMD00010145|[[sample_name, DR...|              null|              null|              null|[[SAMD00010145, B...|  compost metagenome|         702656|RNA-seq of enrich...|        null|       null|                 null|                     null|         live|2016-02-01 13:42:08|2016-02-01 14:16:09|2018-04-17 15:32:18|  2018-04-17 15:32:18|             null|        true|\n",
      "|       DRS003471|      DRP000963|           DRX003311|DRR004079|                null|           null|       KYOTO-GE|[[DRR004079, KYOT...|      null|       []|    DRR004079|  KYOTO-GE|    null|              0|      106|     40805|      live|2014-06-27 18:02:06|2014-06-27 18:02:06|2014-08-11 18:49:52|2014-07-31 19:18:38|          null|     true|                null|      142010|034d8cc3a7b53bf09...|2014-06-27 18:10:12|       DRX003311|                 null|                  null|              KYOTO-GE|                  null|Each root sample ...|  [[DRX003311, KYOT...|              454 GS Junior|                                    null|                   SINGLE|                            null|                                 null|                          null|   YamamotoYoshidaya...|                         PCR|              METAGENOMIC|                   AMPLICON|              LS454|YamamotoYoshidaya...|            null|             live|2014-06-27 18:01:31| 2014-06-27 18:01:31|  2014-07-31 19:19:39|      2014-07-31 19:17:47|                 null|            true|       PRJDB2017|     null|Root-associated f...|  PRJDB2017|            null|             null|       BioProject|                null|[[PRJDB2017, BioP...|      DRP000963|               Other|Co-occurrence ana...|                null|        live|2014-07-02 17:50:11|2014-07-09 17:32:20|2017-09-17 12:40:11| 2017-07-18 17:04:27|            null|       true|    SAMD00004365|      null|SAMD00004365|[[sample_name, DR...|              null|         BioSample|              null|[[SAMD00004365, B...|rhizosphere metag...|         939928|YamamotoYoshidaya...|        null|       null|                 null|                     null|         live|2014-07-31 19:17:27|2014-07-31 19:17:27|2015-02-05 05:15:59|  2015-02-03 12:43:03|             null|        true|\n",
      "|       DRS003794|      DRP000963|           DRX003634|DRR004402|                null|           null|       KYOTO-GE|[[DRR004402, KYOT...|      null|       []|    DRR004402|  KYOTO-GE|    null|              0|      150|     59751|      live|2014-06-27 18:01:58|2014-06-27 18:01:58|2014-08-11 18:48:40|2014-07-31 19:18:31|          null|     true|                null|      184984|b6d5059a5e9c4a9bb...|2014-06-27 18:06:58|       DRX003634|                 null|                  null|              KYOTO-GE|                  null|Each root sample ...|  [[DRX003634, KYOT...|              454 GS Junior|                                    null|                   SINGLE|                            null|                                 null|                          null|   YamamotoYoshidaya...|                         PCR|              METAGENOMIC|                   AMPLICON|              LS454|YamamotoYoshidaya...|            null|             live|2014-06-27 18:01:27| 2014-06-27 18:01:27|  2014-07-31 19:20:13|      2014-07-31 19:18:16|                 null|            true|       PRJDB2017|     null|Root-associated f...|  PRJDB2017|            null|             null|       BioProject|                null|[[PRJDB2017, BioP...|      DRP000963|               Other|Co-occurrence ana...|                null|        live|2014-07-02 17:50:11|2014-07-09 17:32:20|2017-09-17 12:40:11| 2017-07-18 17:04:27|            null|       true|    SAMD00004458|      null|SAMD00004458|[[sample_name, DR...|              null|         BioSample|              null|[[SAMD00004458, B...|rhizosphere metag...|         939928|YamamotoYoshidaya...|        null|       null|                 null|                     null|         live|2014-07-31 19:17:36|2014-07-31 19:17:37|2015-02-05 05:00:41|  2015-02-03 13:28:28|             null|        true|\n",
      "|       DRS003999|      DRP000972|           DRX003848|DRR004619|                null|           null|       KYOTO-GE|[[DRR004619, KYOT...|      null|       []|    DRR004619|  KYOTO-GE|    null|              0|      183|     73714|      live|2014-03-26 05:39:24|2014-04-05 06:57:48|2014-07-31 19:29:11|2014-07-31 19:24:19|          null|     true|                null|      212115|42d6e533cd0ee07bc...|2014-04-02 19:24:27|       DRX003848|                 null|                  null|              KYOTO-GE|                  null|All soil was care...|  [[DRX003848, KYOT...|              454 GS Junior|                    We sequenced fung...|                   SINGLE|                            null|                                 null|                          null|   G63WAOO01__ACTGAC...|                         PCR|              METAGENOMIC|                   AMPLICON|              LS454|G63WAOO01__ACTGAC...|            null|             live|2014-03-26 05:37:41| 2014-04-05 06:57:51|  2014-07-31 19:26:10|      2014-07-31 19:21:20|                 null|            true|       PRJDB1817|     null|In natural forest...|  PRJDB1817|            null|             null|       BioProject|                null|[[PRJDB1817, BioP...|      DRP000972|               Other|How are plant and...|                null|        live|2014-03-26 05:32:52|2014-04-04 06:42:26|2017-09-17 13:51:16| 2017-07-18 16:40:06|            null|       true|    SAMD00002511|      null|SAMD00002511|[[sample_name, DR...|              null|         BioSample|              null|[[SAMD00002511, B...|rhizosphere metag...|         939928|G63WAOO01__ACTGAC...|        null|       null|                 null|                     null|         live|2014-03-26 05:34:33|2014-04-05 06:58:32|2015-02-05 04:50:56|  2015-02-03 02:41:45|             null|        true|\n",
      "|       DRS004006|      DRP000972|           DRX003855|DRR004626|                null|           null|       KYOTO-GE|[[DRR004626, KYOT...|      null|       []|    DRR004626|  KYOTO-GE|    null|              0|      220|     84450|      live|2014-03-26 05:40:21|2014-04-04 04:15:51|2014-07-31 19:29:25|2014-07-31 19:24:49|          null|     true|                null|      239955|31353b669f288f350...|2014-03-28 06:39:47|       DRX003855|                 null|                  null|              KYOTO-GE|                  null|All soil was care...|  [[DRX003855, KYOT...|              454 GS Junior|                    We sequenced fung...|                   SINGLE|                            null|                                 null|                          null|   G63WAOO01__ACTGGA...|                         PCR|              METAGENOMIC|                   AMPLICON|              LS454|G63WAOO01__ACTGGA...|            null|             live|2014-03-26 05:37:41| 2014-04-04 04:18:18|  2014-07-31 19:26:10|      2014-07-31 19:21:21|                 null|            true|       PRJDB1817|     null|In natural forest...|  PRJDB1817|            null|             null|       BioProject|                null|[[PRJDB1817, BioP...|      DRP000972|               Other|How are plant and...|                null|        live|2014-03-26 05:32:52|2014-04-04 06:42:26|2017-09-17 13:51:16| 2017-07-18 16:40:06|            null|       true|    SAMD00001876|      null|SAMD00001876|[[sample_name, DR...|              null|         BioSample|              null|[[SAMD00001876, B...|rhizosphere metag...|         939928|G63WAOO01__ACTGGA...|        null|       null|                 null|                     null|         live|2014-03-26 05:33:25|2014-04-04 06:42:28|2015-02-05 04:50:45|  2015-02-03 01:16:33|             null|        true|\n",
      "|       DRS004167|      DRP000972|           DRX004016|DRR004787|                null|           null|       KYOTO-GE|[[DRR004787, KYOT...|      null|       []|    DRR004787|  KYOTO-GE|    null|              0|      204|     75886|      live|2014-03-26 05:39:37|2014-04-05 06:57:48|2014-07-31 19:29:14|2014-07-31 19:24:25|          null|     true|                null|      224378|87298ca9e4d9378a6...|2014-04-02 19:25:00|       DRX004016|                 null|                  null|              KYOTO-GE|                  null|All soil was care...|  [[DRX004016, KYOT...|              454 GS Junior|                    We sequenced fung...|                   SINGLE|                            null|                                 null|                          null|   G63WAOO01__ATGCTA...|                         PCR|              METAGENOMIC|                   AMPLICON|              LS454|G63WAOO01__ATGCTA...|            null|             live|2014-03-26 05:36:53| 2014-04-05 06:57:51|  2014-07-31 19:26:15|      2014-07-31 19:21:42|                 null|            true|       PRJDB1817|     null|In natural forest...|  PRJDB1817|            null|             null|       BioProject|                null|[[PRJDB1817, BioP...|      DRP000972|               Other|How are plant and...|                null|        live|2014-03-26 05:32:52|2014-04-04 06:42:26|2017-09-17 13:51:16| 2017-07-18 16:40:06|            null|       true|    SAMD00002301|      null|SAMD00002301|[[sample_name, DR...|              null|         BioSample|              null|[[SAMD00002301, B...|rhizosphere metag...|         939928|G63WAOO01__ATGCTA...|        null|       null|                 null|                     null|         live|2014-03-26 05:34:25|2014-04-05 06:58:32|2015-02-05 04:41:15|  2015-02-03 02:30:38|             null|        true|\n",
      "+----------------+---------------+--------------------+---------+--------------------+---------------+---------------+--------------------+----------+---------+-------------+----------+--------+---------------+---------+----------+----------+-------------------+-------------------+-------------------+-------------------+--------------+---------+--------------------+------------+--------------------+-------------------+----------------+---------------------+----------------------+----------------------+----------------------+--------------------+----------------------+---------------------------+----------------------------------------+-------------------------+--------------------------------+-------------------------------------+------------------------------+-----------------------+----------------------------+-------------------------+---------------------------+-------------------+--------------------+----------------+-----------------+-------------------+--------------------+---------------------+-------------------------+---------------------+----------------+----------------+---------+--------------------+-----------+----------------+-----------------+-----------------+--------------------+--------------------+---------------+--------------------+--------------------+--------------------+------------+-------------------+-------------------+-------------------+--------------------+----------------+-----------+----------------+----------+------------+--------------------+------------------+------------------+------------------+--------------------+--------------------+---------------+--------------------+------------+-----------+---------------------+-------------------------+-------------+-------------------+-------------------+-------------------+---------------------+-----------------+------------+\n",
      "only showing top 20 rows\n",
      "\n"
     ]
    }
   ],
   "source": [
    "y.show()"
   ]
  },
  {
   "cell_type": "code",
   "execution_count": null,
   "metadata": {},
   "outputs": [],
   "source": [
    "df3 = sql.read.format(\"org.elasticsearch.spark.sql\")\\\n",
    "    .option(\"es.nodes.wan.only\",\"true\")\\\n",
    "    .option(\"es.net.http.auth.user\",\"\")\\\n",
    "    .option(\"es.net.http.auth.pass\",\"Asdf1234%\")\\\n",
    "    .option(\"es.net.ssl\",\"true\")\\\n",
    "    .option(\"es.nodes\",\"c0b1083b4d78495d3b29a72d74fcea41.us-east-1.aws.found.io\")\\\n",
    "    .option(\"es.read.field.as.array.include\",\"identifiers,attributes,xrefs\")\\\n",
    "    .option(\"es.mapping.date.rich\", \"false\")\\\n",
    "    .option(\"es.port\",\"9200\").load('sra_study/doc')"
   ]
  }
 ],
 "metadata": {
  "kernelspec": {
   "display_name": "Python 3",
   "language": "python",
   "name": "python3"
  },
  "language_info": {
   "codemirror_mode": {
    "name": "ipython",
    "version": 3
   },
   "file_extension": ".py",
   "mimetype": "text/x-python",
   "name": "python",
   "nbconvert_exporter": "python",
   "pygments_lexer": "ipython3",
   "version": "3.4.7"
  }
 },
 "nbformat": 4,
 "nbformat_minor": 2
}
