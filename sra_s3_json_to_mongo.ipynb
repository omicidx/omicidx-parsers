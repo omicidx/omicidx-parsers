{
 "cells": [
  {
   "cell_type": "code",
   "execution_count": 1,
   "metadata": {},
   "outputs": [],
   "source": [
    "import boto3\n",
    "import pymongo\n",
    "import datetime\n",
    "import json\n",
    "import io"
   ]
  },
  {
   "cell_type": "code",
   "execution_count": 15,
   "metadata": {},
   "outputs": [],
   "source": [
    "def list_s3_directory(bucket, path):\n",
    "    s3 = boto3.resource('s3')\n",
    "    bucket = s3.Bucket(bucket)\n",
    "    objects = []\n",
    "    for o in bucket.objects.filter(Prefix = path):\n",
    "        objects.append(o.key)\n",
    "    return(objects)\n",
    "\n",
    "def prep_for_insert(record):\n",
    "    \"\"\"Take a sindle record from s3 json and prep for mongodb\n",
    "    \n",
    "    - Convert to datetime objects for dates\n",
    "    - Set '_id' property\n",
    "    \"\"\"\n",
    "    record['_id'] = record['accession']\n",
    "    for k in ['Received', 'Published', 'LastUpdate', 'LastMetaUpdate']:\n",
    "        try:\n",
    "            record[k] = datetime.datetime.strptime(record[k],\"%Y-%m-%dT%X.%fZ\")\n",
    "        except:\n",
    "            pass\n",
    "        \n",
    "def insert_to_mongo(collection, dbname = 'sra', drop_first = True):\n",
    "    client = pymongo.MongoClient()\n",
    "    s3 = boto3.resource('s3')\n",
    "    bucket = s3.Bucket('omicidx.cancerdatasci.org')\n",
    "    db = client[dbname]\n",
    "    if(drop_first):\n",
    "        try:\n",
    "            db[collection].drop()\n",
    "        except:\n",
    "            pass\n",
    "    col = db[collection]\n",
    "    all_s3_files = filter(lambda z: z.endswith('json'),\n",
    "                          list_s3_directory('omicidx.cancerdatasci.org', \n",
    "                                         path='sra/NCBI_SRA_Mirroring_20180401_Full/json/{}_json/'.format(collection)))\n",
    "    for i in all_s3_files:\n",
    "        records = []\n",
    "        for line in io.StringIO(bucket.Object(i).get()['Body'].read().decode('UTF-8')):\n",
    "            rec = json.loads(line)\n",
    "            prep_for_insert(rec)\n",
    "            records.append(rec)\n",
    "        col.insert_many(records)\n",
    "\n"
   ]
  },
  {
   "cell_type": "code",
   "execution_count": 62,
   "metadata": {},
   "outputs": [
    {
     "data": {
      "text/plain": [
       "'sra/NCBI_SRA_Mirroring_20180401_Full/fileinfo_addons.csv.gz'"
      ]
     },
     "execution_count": 62,
     "metadata": {},
     "output_type": "execute_result"
    }
   ],
   "source": []
  },
  {
   "cell_type": "code",
   "execution_count": 77,
   "metadata": {},
   "outputs": [],
   "source": []
  },
  {
   "cell_type": "code",
   "execution_count": null,
   "metadata": {},
   "outputs": [],
   "source": []
  },
  {
   "cell_type": "code",
   "execution_count": 97,
   "metadata": {},
   "outputs": [],
   "source": [
    "for r in rec:\n",
    "    fix_dates(r)"
   ]
  },
  {
   "cell_type": "code",
   "execution_count": 101,
   "metadata": {},
   "outputs": [],
   "source": [
    "from pymongo import MongoClient\n",
    "client = MongoClient()\n",
    "db = client.sra"
   ]
  },
  {
   "cell_type": "code",
   "execution_count": 105,
   "metadata": {},
   "outputs": [],
   "source": [
    "expt = db['experiment']"
   ]
  },
  {
   "cell_type": "code",
   "execution_count": null,
   "metadata": {},
   "outputs": [],
   "source": [
    "insert_to_mongo(client, 'run')"
   ]
  },
  {
   "cell_type": "code",
   "execution_count": 16,
   "metadata": {},
   "outputs": [],
   "source": [
    "import multiprocessing\n",
    "with multiprocessing.Pool() as pool:\n",
    "    pool.map(insert_to_mongo, ['study', 'experiment', 'sample', 'run'])"
   ]
  },
  {
   "cell_type": "code",
   "execution_count": 17,
   "metadata": {},
   "outputs": [],
   "source": []
  },
  {
   "cell_type": "code",
   "execution_count": 18,
   "metadata": {},
   "outputs": [
    {
     "data": {
      "text/plain": [
       "[None, None, None, None]"
      ]
     },
     "execution_count": 18,
     "metadata": {},
     "output_type": "execute_result"
    }
   ],
   "source": []
  },
  {
   "cell_type": "code",
   "execution_count": null,
   "metadata": {},
   "outputs": [],
   "source": []
  }
 ],
 "metadata": {
  "kernelspec": {
   "display_name": "Python 3",
   "language": "python",
   "name": "python3"
  },
  "language_info": {
   "codemirror_mode": {
    "name": "ipython",
    "version": 3
   },
   "file_extension": ".py",
   "mimetype": "text/x-python",
   "name": "python",
   "nbconvert_exporter": "python",
   "pygments_lexer": "ipython3",
   "version": "3.4.7"
  }
 },
 "nbformat": 4,
 "nbformat_minor": 2
}
